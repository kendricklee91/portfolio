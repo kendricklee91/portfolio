{
 "cells": [
  {
   "cell_type": "code",
   "execution_count": null,
   "metadata": {},
   "outputs": [],
   "source": [
    "import numpy as np\n",
    "import matplotlib.pyplot as plt\n",
    "import pandas as pd\n",
    "from pandas.io import sql\n",
    "from sqlalchemy import create_engine\n",
    "from matplotlib.pyplot import savefig\n",
    "\n",
    "from statsmodels.tsa.arima_model import ARIMA\n",
    "from sklearn.metrics import mean_squared_error\n",
    "\n",
    "engine = create_engine('')\n",
    "cnn = engine.connect()\n",
    "\n",
    "data = sql.read_sql(\"\", cnn)\n",
    "data.columns = ['idx','Location','Date','SO2','CO','O3','NO2','PM10','PM25']\n",
    "data = pd.DataFrame(data,columns=['Location','Date','PM10'])\n",
    "data_seoul=data[data.Location.isin(['서울'])]\n",
    "data_seoul=data_seoul.sort_values(['Date'], ascending=[True])\n",
    "del data_seoul['Location']\n",
    "data_seoul=data_seoul.set_index(['Date'])\n",
    "data_seoul=pd.rolling_mean(data_seoul,30)\n",
    "data_seoul=data_seoul[29:]\n",
    "\n",
    "train, test = data_seoul['PM10'][0:3261], data_seoul['PM10'][3261:len(data_seoul)]\n",
    "data_seoul.index=data_seoul.index.to_datetime()\n",
    "\n",
    "history = [x for x in train]"
   ]
  },
  {
   "cell_type": "code",
   "execution_count": null,
   "metadata": {},
   "outputs": [],
   "source": [
    "import warnings\n",
    "warnings.filterwarnings(\"ignore\")\n",
    "\n",
    "predictions = list()\n",
    "%timeit\n",
    "for i in range(len(test)):\n",
    "    model = ARIMA(history, order=(1,1,1))\n",
    "    fitted_model = model.fit(disp=0, method='css-mle')\n",
    "    output = fitted_model.forecast()\n",
    "    yhat = output[0]\n",
    "    predictions.append(yhat)\n",
    "    obs = test[i]\n",
    "    history.append(obs)\n",
    "    \n",
    "error = mean_squared_error(test, predictions)\n",
    "print(\"MSE: %.3f\"%error)\n",
    "\n",
    "import math\n",
    "rmserror = math.sqrt(error)\n",
    "print(\"RMSE: %.3f\"%rmserror)"
   ]
  },
  {
   "cell_type": "code",
   "execution_count": null,
   "metadata": {},
   "outputs": [],
   "source": [
    "test_df=pd.DataFrame(test)\n",
    "predict_df=pd.DataFrame(predictions)\n",
    "predict_df.index=test_df.index\n",
    "result=test_df.join(predict_df)\n",
    "result.columns=['Observed','Predict']"
   ]
  },
  {
   "cell_type": "code",
   "execution_count": null,
   "metadata": {},
   "outputs": [],
   "source": [
    "%matplotlib inline\n",
    "result.plot(figsize=(16,10))"
   ]
  }
 ],
 "metadata": {
  "anaconda-cloud": {},
  "kernelspec": {
   "display_name": "Python 3",
   "language": "python",
   "name": "python3"
  },
  "language_info": {
   "codemirror_mode": {
    "name": "ipython",
    "version": 3
   },
   "file_extension": ".py",
   "mimetype": "text/x-python",
   "name": "python",
   "nbconvert_exporter": "python",
   "pygments_lexer": "ipython3",
   "version": "3.7.0"
  }
 },
 "nbformat": 4,
 "nbformat_minor": 1
}
