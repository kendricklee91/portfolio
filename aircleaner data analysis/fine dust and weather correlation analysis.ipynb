{
 "cells": [
  {
   "cell_type": "code",
   "execution_count": null,
   "metadata": {},
   "outputs": [],
   "source": [
    "from matplotlib.pyplot import savefig\n",
    "from sqlalchemy import create_engine\n",
    "from pandas.io import sql\n",
    "\n",
    "import matplotlib.pyplot as plt\n",
    "import seaborn as sns\n",
    "import pandas as pd\n",
    "import numpy as np\n",
    "import matplotlib\n",
    "\n",
    "%matplotlib inline\n",
    "font_name = matplotlib.font_manager.FontProperties(fname='C:/Windows/Fonts/malgun.ttf').get_name()\n",
    "matplotlib.rc('font', family=font_name)"
   ]
  },
  {
   "cell_type": "code",
   "execution_count": null,
   "metadata": {},
   "outputs": [],
   "source": [
    "engine = create_engine('')\n",
    "cnn = engine.connect()\n",
    "\n",
    "data_daily=sql.read_sql(\"\", cnn)\n",
    "\n",
    "del data_daily['PM25']"
   ]
  },
  {
   "cell_type": "code",
   "execution_count": null,
   "metadata": {},
   "outputs": [],
   "source": [
    "sns.set(font_scale=1.5)\n",
    "f, ax = plt.subplots(figsize=(20,10))\n",
    "sns_heatmap=sns.heatmap(data_daily.corr(),annot=True, fmt=\".2f\", linewidths=.5, cmap=\"RdBu_r\")\n",
    "savefig('미세먼지 요인 상관관계 분석.jpg', dpi=200, bbox_inches='tight')"
   ]
  },
  {
   "cell_type": "code",
   "execution_count": null,
   "metadata": {},
   "outputs": [],
   "source": [
    "fig = plt.figure()\n",
    "x=([0,1,2,3,4])\n",
    "fig, ax = plt.subplots()\n",
    "plt.plot(data_daily.corr().values[4])\n",
    "plt.xticks(x,['SO2','CO','O3','NO2','PM10'])\n",
    "plt.title(\"SO2, CO, O3, NO2, PM10 Correlation\")\n",
    "plt.savefig(\"미세먼지요인의 상관관계.jpg\", dpi=200, bbox_inches='tight')"
   ]
  },
  {
   "cell_type": "code",
   "execution_count": null,
   "metadata": {},
   "outputs": [],
   "source": [
    "engine = create_engine('')\n",
    "cnn = engine.connect()\n",
    "\n",
    "data_daily=sql.read_sql(\"20161122_day_air_weather\", cnn)\n",
    "\n",
    "del data_daily['PM25']"
   ]
  },
  {
   "cell_type": "code",
   "execution_count": null,
   "metadata": {},
   "outputs": [],
   "source": [
    "data_seoul=data_daily[data_daily.Location.isin(['서울'])]\n",
    "date_dict = {\"01\":\"겨울\",\"02\":\"겨울\",\"03\":\"봄\", \"04\":\"봄\", \"05\":\"봄\", \"06\":\"여름\", \"07\":\"여름\", \"08\":\"여름\",\\\n",
    "             \"09\":\"가을\",\"10\":\"가을\",\"11\":\"가을\",\"12\":\"겨울\"}\n",
    "data_seoul['Season']=data_seoul.Date.str[5:7].map(date_dict)\n",
    "\n",
    "data_seoul=pd.DataFrame(data_seoul, columns=['Location','PM10','Season','Humidity','Steam','SeaSteam','DayLight','snow','Cloud','MiddleCloud','LandTemp','FogTimeArr','windPower'])\n",
    "data_seoul_test=data_seoul[data_seoul.Season.isin(['겨울'])]\n",
    "\n",
    "sns.set(font_scale=1.5)\n",
    "f, ax = plt.subplots(figsize=(20,10))\n",
    "sns_heatmap=sns.heatmap(data_seoul_test.corr(),annot=True, fmt=\".2f\", linewidths=.5, cmap=\"RdBu_r\")"
   ]
  },
  {
   "cell_type": "code",
   "execution_count": null,
   "metadata": {},
   "outputs": [],
   "source": [
    "#data_seoul=data_daily[data_daily.Location.isin(['서울'])]\n",
    "data_seoul=data_daily\n",
    "date_dict = {\"01\":\"겨울\",\"02\":\"겨울\",\"03\":\"봄\", \"04\":\"봄\", \"05\":\"봄\", \"06\":\"여름\", \"07\":\"여름\", \"08\":\"여름\",\\\n",
    "             \"09\":\"가을\",\"10\":\"가을\",\"11\":\"가을\",\"12\":\"겨울\"}\n",
    "data_seoul['Season']=data_seoul.Date.str[5:7].map(date_dict)\n",
    "\n",
    "data_seoul=pd.DataFrame(data_seoul, columns=['Location','PM10','Season','Humidity','Steam','SeaSteam','DayLight','snow','Cloud','MiddleCloud','LandTemp','FogTimeArr','windPower'])\n",
    "data_seoul_test=data_seoul[data_seoul.Season.isin(['봄'])]\n",
    "\n",
    "sns.set(font_scale=1.5)\n",
    "f, ax = plt.subplots(figsize=(20,10))\n",
    "sns_heatmap=sns.heatmap(data_seoul_test.corr(),annot=True, fmt=\".2f\", linewidths=.5, cmap=\"RdBu_r\")"
   ]
  },
  {
   "cell_type": "code",
   "execution_count": null,
   "metadata": {},
   "outputs": [],
   "source": [
    "data_weather=data_daily\n",
    "\n",
    "data_weather=pd.DataFrame(data_weather, columns=['Location','PM10','Humidity','Steam','SeaSteam','DayLight','snow','Cloud','MiddleCloud','LandTemp','FogTimeArr','windPower'])\n",
    "\n",
    "sns.set(font_scale=1.5)\n",
    "f, ax = plt.subplots(figsize=(20,10))\n",
    "sns_heatmap=sns.heatmap(data_weather.corr(),annot=True, fmt=\".2f\", linewidths=.5, cmap=\"RdBu_r\")"
   ]
  },
  {
   "cell_type": "code",
   "execution_count": null,
   "metadata": {},
   "outputs": [],
   "source": [
    "x=([0,1,2,3,4,5,6,7,8,9,10])\n",
    "fig, ax = plt.subplots(figsize=(16,5))\n",
    "plt.plot(data_seoul_test.corr().values[0])\n",
    "plt.xticks(x,['PM10','Humidity','Steam','SeaSteam','DayLight','snow','Cloud','MiddleCloud','LandTemp','FogTimeArr','windPower'])\n",
    "plt.title(\"PM10, Weather Correlation\")\n",
    "plt.savefig(\"봄철 미세먼지와 기상요인의 상관관계.jpg\", dpi=200, bbox_inches='tight')"
   ]
  }
 ],
 "metadata": {
  "kernelspec": {
   "display_name": "Python 3",
   "language": "python",
   "name": "python3"
  },
  "language_info": {
   "codemirror_mode": {
    "name": "ipython",
    "version": 3
   },
   "file_extension": ".py",
   "mimetype": "text/x-python",
   "name": "python",
   "nbconvert_exporter": "python",
   "pygments_lexer": "ipython3",
   "version": "3.7.0"
  }
 },
 "nbformat": 4,
 "nbformat_minor": 1
}
