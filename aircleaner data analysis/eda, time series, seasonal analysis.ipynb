{
 "cells": [
  {
   "cell_type": "code",
   "execution_count": null,
   "metadata": {},
   "outputs": [],
   "source": [
    "#미세먼지 요인별 그래프\n",
    "from matplotlib.pyplot import savefig\n",
    "from sqlalchemy import create_engine\n",
    "from pandas.io import sql\n",
    "\n",
    "import matplotlib.pyplot as plt\n",
    "import matplotlib\n",
    "import pandas as pd\n",
    "import numpy as np\n",
    "\n",
    "%matplotlib inline\n",
    "font_name = matplotlib.font_manager.FontProperties(fname='C:/Windows/Fonts/malgun.ttf').get_name()\n",
    "\n",
    "matplotlib.rc('font', family=font_name)\n",
    "matplotlib.rc('xtick', labelsize=12)\n",
    "matplotlib.rc('ytick', labelsize=12)\n",
    "matplotlib.rc('axes',labelsize=15)"
   ]
  },
  {
   "cell_type": "code",
   "execution_count": null,
   "metadata": {},
   "outputs": [],
   "source": [
    "data= pd.read_pickle('연도별 데이터.pickle')\n",
    "data = pd.DataFrame(data, columns=['Date', 'PM10'])"
   ]
  },
  {
   "cell_type": "code",
   "execution_count": null,
   "metadata": {},
   "outputs": [],
   "source": [
    "data.tail()\n",
    "data=np.round(data.groupby(['Date'])['PM10'].mean(),2)"
   ]
  },
  {
   "cell_type": "code",
   "execution_count": null,
   "metadata": {},
   "outputs": [],
   "source": [
    "data.columns=['미세먼지']\n",
    "data=pd.DataFrame(data)\n",
    "data.columns=['미세먼지']\n",
    "data=data[:-1]\n",
    "\n",
    "data['WHO기준']=20\n",
    "data['런던']=19\n",
    "data['파리']=27"
   ]
  },
  {
   "cell_type": "code",
   "execution_count": null,
   "metadata": {},
   "outputs": [],
   "source": [
    "fig = plt.figure(figsize=(16,10))\n",
    "ax=fig.add_subplot(111)\n",
    "\n",
    "data.plot( title='전국 연도별 미세먼지 평균 수치', legend=True, color=['b','r', 'c', 'm', 'g', 'k'], \\\n",
    "            linewidth=3, ax=ax)\n",
    "\n",
    "ax.yaxis.grid()\n",
    "ax.xaxis.grid()"
   ]
  },
  {
   "cell_type": "markdown",
   "metadata": {},
   "source": [
    "# 전체 지역별 미세먼지 데이터 확인"
   ]
  },
  {
   "cell_type": "code",
   "execution_count": null,
   "metadata": {},
   "outputs": [],
   "source": [
    "# 지역별 일별 수치\n",
    "data= pd.read_pickle('일별 미세먼지데이터.pickle')\n",
    "\n",
    "del data['idx']\n",
    "\n",
    "data.columns = ['Location','Date','SO2','CO','O3','NO2','PM10']\n",
    "data=data.sort_values(['Date'], ascending=[True])\n",
    "data=data.set_index(['Date'])"
   ]
  },
  {
   "cell_type": "markdown",
   "metadata": {},
   "source": [
    "# 일부지역별 미세먼지 데이터 확인"
   ]
  },
  {
   "cell_type": "code",
   "execution_count": null,
   "metadata": {},
   "outputs": [],
   "source": [
    "# 지역별 미세먼지 데이터 분석\n",
    "data= pd.read_pickle('일별 미세먼지데이터.pickle')\n",
    "\n",
    "del data['idx']\n",
    "\n",
    "data.columns = ['Location','Date','SO2','CO','O3','NO2','PM10']\n",
    "data=data[data.Location.isin(['강원','제주'])]\n",
    "print(data.tail())\n",
    "data=data.sort_values(['Date'], ascending=[True])\n",
    "data= np.round(data.groupby(['Date'])['SO2','NO2','CO','O3','PM10'].mean(),5) #전체지역\n",
    "data.plot(subplots=True, figsize=(16,14))"
   ]
  },
  {
   "cell_type": "code",
   "execution_count": null,
   "metadata": {},
   "outputs": [],
   "source": [
    "data = pd.read_pickle('../data/월별 미세먼지데이터.pickle')\n",
    "\n",
    "#월별 수치\n",
    "data.columns = ['Location','Date','SO2','CO','O3','NO2','PM10']\n",
    "data=data[data.Location.isin(['강원','제주'])]\n",
    "data=data.sort_values(['Date'], ascending=[True])\n",
    "\n",
    "data= np.round(data.groupby(['Date'])['SO2','NO2','CO','O3','PM10'].mean(),5) #전체지역\n",
    "data.plot(subplots=True, figsize=(16,14))"
   ]
  },
  {
   "cell_type": "code",
   "execution_count": null,
   "metadata": {},
   "outputs": [],
   "source": [
    "#년별 수치\n",
    "data = pd.read_pickle('../data/년도별 미세먼지데이터.pickle')\n",
    "data.columns = ['Location','Date','SO2','CO','O3','NO2','PM10']\n",
    "data=data[data.Location.isin(['강원','제주'])]\n",
    "\n",
    "data= np.round(data.groupby(['Date'])['SO2','NO2','CO','O3','PM10'].mean(),5) #전체지역\n",
    "data.plot(subplots=True, figsize=(16,14))"
   ]
  },
  {
   "cell_type": "markdown",
   "metadata": {},
   "source": [
    "# 이동평균법 분석"
   ]
  },
  {
   "cell_type": "code",
   "execution_count": null,
   "metadata": {},
   "outputs": [],
   "source": [
    "data = pd.read_pickle('일별 미세먼지데이터.pickle')\n",
    "\n",
    "print(data.tail())\n",
    "#data = sql.read_sql(\"select * from 20161122_day_air_quality\",cnn)\n",
    "data.columns = ['idx','Location','Date','SO2','CO','O3','NO2','PM10']\n",
    "del data['idx']\n",
    "data=data.sort_values(['Date'], ascending=[True])\n",
    "\n",
    "data=pd.DataFrame(data, columns=['Location','Date','PM10'])"
   ]
  },
  {
   "cell_type": "code",
   "execution_count": null,
   "metadata": {},
   "outputs": [],
   "source": [
    "data = pd.read_pickle('일별 미세먼지데이터.pickle')\n",
    "\n",
    "print(data.tail())\n",
    "#data = sql.read_sql(\"select * from 20161122_day_air_quality\",cnn)\n",
    "data.columns = ['idx','Location','Date','SO2','CO','O3','NO2','PM10']\n",
    "del data['idx']\n",
    "data=data.sort_values(['Date'], ascending=[True])\n",
    "\n",
    "data=pd.DataFrame(data, columns=['Location','Date','PM10'])"
   ]
  },
  {
   "cell_type": "markdown",
   "metadata": {},
   "source": [
    "## 전국지역 기준 이동평균법 분석"
   ]
  },
  {
   "cell_type": "code",
   "execution_count": null,
   "metadata": {},
   "outputs": [],
   "source": [
    "data_all_location=pd.DataFrame(data, columns=['Date', 'PM10'])\n",
    "data_all_location=data_all_location.groupby(['Date'])['PM10'].mean()\n",
    "data_all_location=data_all_location.round(2)\n",
    "data_all_location=pd.DataFrame(data_all_location)\n",
    "data_all_location['Location']='전국'\n",
    "data_all_location=data_all_location.reset_index()"
   ]
  },
  {
   "cell_type": "markdown",
   "metadata": {},
   "source": [
    "## 지역별 입력"
   ]
  },
  {
   "cell_type": "code",
   "execution_count": null,
   "metadata": {},
   "outputs": [],
   "source": [
    "data_devision=data[data.Location.isin(['경남','경북'])]\n",
    "data_devision=np.round(data_devision.groupby(['Date'])['PM10'].mean(),2)\n",
    "data_devision= data_devision.reset_index()\n",
    "data_merge=pd.merge(data_all_location, data_devision, on='Date')\n",
    "del data_merge['Location']\n",
    "data_merge=data_merge.set_index(['Date'])\n",
    "data_merge.columns=['전국','경남, 경북']\n",
    "\n",
    "pd.rolling_mean(data_merge,30).plot(figsize=(20,10), color=['b','r'], ylim=(0,140))"
   ]
  },
  {
   "cell_type": "markdown",
   "metadata": {},
   "source": [
    "## 지역별 데이터 분석"
   ]
  },
  {
   "cell_type": "code",
   "execution_count": null,
   "metadata": {},
   "outputs": [],
   "source": [
    "data = pd.read_pickle('일별 미세먼지데이터.pickle')\n",
    "\n",
    "data.columns = ['idx','Location','Date','SO2','CO','O3','NO2','PM10']\n",
    "del data['idx']\n",
    "data=data.sort_values(['Date'], ascending=[True])\n",
    "\n",
    "data=pd.DataFrame(data, columns=['Location','Date','PM10'])\n",
    "\n",
    "data=data.set_index(['Date'])\n",
    "\n",
    "ax=data[data.Location.isin(['서울'])].plot(figsize=(16,10))\n",
    "\n",
    "ax.set_xticks(np.arange(0,4107,365))\n",
    "ax.set_ylabel(\"미세먼지 수치\")\n",
    "\n",
    "date_range = pd.date_range('2005', '2017', freq='A')\n",
    "date_range = date_range.map(lambda t: t.strftime('%Y'))\n",
    "ax.set_xticklabels(date_range)"
   ]
  },
  {
   "cell_type": "code",
   "execution_count": null,
   "metadata": {},
   "outputs": [],
   "source": [
    "data_seoul=data[data.Location.isin(['서울'])]\n",
    "ax=pd.rolling_mean(data_seoul.PM10,30).plot(figsize=(16,10))\n",
    "\n",
    "ax.set_xticks(np.arange(0,4107,365))\n",
    "ax.set_ylabel(\"미세먼지 수치\")\n",
    "\n",
    "date_range = pd.date_range('2005', '2017', freq='A')\n",
    "date_range = date_range.map(lambda t: t.strftime('%Y'))\n",
    "ax.set_xticklabels(date_range)"
   ]
  },
  {
   "cell_type": "code",
   "execution_count": null,
   "metadata": {},
   "outputs": [],
   "source": [
    "data = pd.read_pickle('../data/일별 미세먼지데이터.pickle')\n",
    "del data['idx']\n",
    "data.columns = ['Location','Date','SO2','CO','O3','NO2','PM10']\n",
    "data=data.sort_values(['Date'], ascending=[True])\n",
    "data=pd.DataFrame(data, columns=['Location','Date','PM10'])\n",
    "data_devision_1=data[data.Location.isin(['서울','경기'])]\n",
    "data_devision_1=np.round(data_devision_1.groupby(['Date'])['PM10'].mean(),2)\n",
    "data_devision_1=data_devision_1.reset_index()\n",
    "data_devision_2=data[data.Location.isin(['경남','경북'])]\n",
    "data_devision_2=np.round(data_devision_2.groupby(['Date'])['PM10'].mean(),2)\n",
    "data_devision_2=data_devision_2.reset_index()\n",
    "data_devision_3=data[data.Location.isin(['전남','전북'])]\n",
    "data_devision_3=np.round(data_devision_3.groupby(['Date'])['PM10'].mean(),2)\n",
    "data_devision_3=data_devision_3.reset_index()\n",
    "data_devision_4=data[data.Location.isin(['충남','충북'])]\n",
    "data_devision_4=np.round(data_devision_4.groupby(['Date'])['PM10'].mean(),2)\n",
    "data_devision_4=data_devision_4.reset_index()\n",
    "data_devision_5=data[data.Location.isin(['강원'])]\n",
    "\n",
    "data_mer=pd.merge(data_devision_1, data_devision_4, on='Date')\n",
    "\n",
    "data_mer.columns = ['Date','서울, 경기','충남, 충북']\n",
    "data_mer=data_mer.set_index(['Date'])"
   ]
  },
  {
   "cell_type": "markdown",
   "metadata": {},
   "source": [
    "# 지역별 미세먼지 이동평균법 분석"
   ]
  },
  {
   "cell_type": "code",
   "execution_count": null,
   "metadata": {},
   "outputs": [],
   "source": [
    "import datetime\n",
    "test=pd.rolling_mean(data_mer,90)\n",
    "\n",
    "test['파리']=27\n",
    "test['WHO']=20\n",
    "\n",
    "ax=test.plot(figsize=(20,10), color=['r','b','k','c'], linewidth=1.3 , ylim=(15,95), rot=70)\n",
    "ax.tick_params(labelsize=20)\n",
    "\n",
    "ax.set_xticks(np.arange(0,4107,365))\n",
    "\n",
    "date_range = pd.date_range('2005', '2017', freq='A')\n",
    "date_range = date_range.map(lambda t: t.strftime('%Y'))\n",
    "ax.set_xticklabels(date_range)\n",
    "\n",
    "ax.grid(True)"
   ]
  },
  {
   "cell_type": "code",
   "execution_count": null,
   "metadata": {},
   "outputs": [],
   "source": [
    "data = pd.read_pickle('일별 미세먼지데이터.pickle')\n",
    "del data['idx']\n",
    "data.columns = ['Location','Date','SO2','CO','O3','NO2','PM10']"
   ]
  },
  {
   "cell_type": "code",
   "execution_count": null,
   "metadata": {},
   "outputs": [],
   "source": [
    "data_hist=data[data.Location.isin(['서울'])]\n",
    "data_hist=data_hist.sort_values(['Date'], ascending=[True])\n",
    "data_hist=pd.DataFrame(data_hist,columns=['Location','Date','PM10'])\n",
    "data_hist=data_hist.groupby(['Date'])['PM10'].mean()\n",
    "data_hist=data_hist.reset_index()\n",
    "data_hist['Year']=data_hist.Date.str[0:4]\n",
    "data_hist['Day']=data_hist.Date.str[5:]\n",
    "total_data=data_hist.pivot(index='Day',columns='Year', values='PM10')\n",
    "total_data=total_data.fillna(0)\n",
    "total_data=total_data.round(2)\n",
    "total_data.tail()"
   ]
  },
  {
   "cell_type": "markdown",
   "metadata": {},
   "source": [
    "## 히스토그램 탐색적 데이터 분석"
   ]
  },
  {
   "cell_type": "code",
   "execution_count": null,
   "metadata": {},
   "outputs": [],
   "source": [
    "ax=total_data.hist(figsize=(16,10), color='green')\n",
    "\n",
    "ax[0][0].set_ylim((0,300))\n",
    "ax[0][1].set_ylim((0,300))\n",
    "ax[0][2].set_ylim((0,300))\n",
    "ax[1][0].set_ylim((0,300))\n",
    "ax[1][1].set_ylim((0,300))\n",
    "ax[1][2].set_ylim((0,300))\n",
    "ax[2][0].set_ylim((0,300))\n",
    "ax[2][1].set_ylim((0,300))\n",
    "ax[2][2].set_ylim((0,300))\n",
    "ax[3][0].set_ylim((0,300))\n",
    "ax[3][1].set_ylim((0,300))\n",
    "ax[3][2].set_ylim((0,300))"
   ]
  },
  {
   "cell_type": "code",
   "execution_count": null,
   "metadata": {},
   "outputs": [],
   "source": [
    "data = pd.read_pickle('../data/년도별 미세먼지데이터.pickle')\n",
    "total_data.plot(subplots=True,figsize=(16,30))"
   ]
  },
  {
   "cell_type": "markdown",
   "metadata": {},
   "source": [
    "## 도심/ 비도심 미세먼지 수치분석"
   ]
  },
  {
   "cell_type": "code",
   "execution_count": null,
   "metadata": {},
   "outputs": [],
   "source": [
    "#계절별 수치\n",
    "data = pd.read_pickle('weather_result.pickle')\n",
    "\n",
    "data_temp = data\n",
    "data_temp=data_temp[data_temp.Location.isin(['서울','경기','대전','대구','부산'])]\n",
    "\n",
    "data_temp=data_temp.sort_values(['Date'], ascending=[True])\n",
    "data_temp=pd.DataFrame(data_temp,columns=['Location','Date','PM10'])\n",
    "date_dict = {\"01\":\"겨울\",\"02\":\"겨울\",\"03\":\"봄\", \"04\":\"봄\", \"05\":\"봄\", \"06\":\"여름\", \"07\":\"여름\", \"08\":\"여름\",\\\n",
    "             \"09\":\"가을\",\"10\":\"가을\",\"11\":\"가을\",\"12\":\"겨울\"}\n",
    "data_temp['Season']=data_temp.Date.str[5:7].map(date_dict)\n",
    "\n",
    "data_temp['Year']=data_temp.Date.str[0:4]\n",
    "data_temp['Day']=data_temp.Date.str[5:]\n",
    "\n",
    "test=pd.DataFrame(data_temp.groupby(['Year','Season'], sort=False)['PM10'].mean().unstack(\"Year\"))\n",
    "\n",
    "fig = plt.figure(figsize=(25,10))\n",
    "ax=fig.add_subplot(111)\n",
    "ax2=ax.twinx()\n",
    "\n",
    "colors = plt.cm.rainbow_r(np.linspace(0,1,12))\n",
    "test.plot(kind='bar', figsize=(16,10), title=\"도심 지역의 년도, 계절별 미세먼지 수치 분석\", fontsize=13, color=colors , ax=ax)\n",
    "\n",
    "data = {'WHO':[20], 'LA':[18],'뉴욕':[13], '런던':[16], '파리':[15]}\n",
    "data = pd.DataFrame(data)\n",
    "ax2.plot(data, linewidth=2.0, color='black')\n",
    "ax2.set_ylabel(\"글로벌 기준\")"
   ]
  },
  {
   "cell_type": "code",
   "execution_count": null,
   "metadata": {},
   "outputs": [],
   "source": [
    "colors = plt.cm.rainbow_r(np.linspace(0,1,4))\n",
    "test.T.plot(kind='bar', figsize=(16,10), color=colors, fontsize=13, title=\"도심 지역의 년도별 계절별 미세먼지 분포\")"
   ]
  },
  {
   "cell_type": "markdown",
   "metadata": {},
   "source": [
    "# 지역, 계절별 미세먼지 수치 카테고리 분석"
   ]
  },
  {
   "cell_type": "code",
   "execution_count": null,
   "metadata": {},
   "outputs": [],
   "source": [
    "'''\n",
    "계절별 수치 농도카테고리 분석\n",
    "'''\n",
    "# 지역별 일별 수치\n",
    "data = pd.read_pickle('../data/일별 미세먼지데이터.pickle')\n",
    "data.columns = ['idx','Location','Date','SO2','CO','O3','NO2','PM10']\n",
    "\n",
    "# 지역 확인\n",
    "'''\n",
    "1. 전체 \n",
    "2. 서울 data=data[data.Location.isin(['서울'])]\n",
    "3. 도심 data=data[data.Location.isin(['서울','경기', '대전', '대구', '부산'])]\n",
    "4. 비도심 data=data[data.Location.isin(['제주', '강원'])]\n",
    "'''\n",
    "data=data[data.Location.isin(['제주', '강원'])]\n",
    "data=data.sort_values(['Date'], ascending=[True])\n",
    "data=pd.DataFrame(data,columns=['Location','Date','PM10'])\n",
    "date_dict = {\"01\":\"겨울\",\"02\":\"겨울\",\"03\":\"봄\", \"04\":\"봄\", \"05\":\"봄\", \"06\":\"여름\", \"07\":\"여름\", \"08\":\"여름\",\\\n",
    "             \"09\":\"가을\",\"10\":\"가을\",\"11\":\"가을\",\"12\":\"겨울\"}\n",
    "data['Season']=data.Date.str[5:7].map(date_dict)\n",
    "data['Year']=data.Date.str[0:4]\n",
    "data['Day']=data.Date.str[5:]\n",
    "\n",
    "def PM10_cate(x):\n",
    "    if x<=30:\n",
    "        return '좋음'\n",
    "    if x<=80:\n",
    "        return '보통'\n",
    "    if x<=150:\n",
    "        return '나쁨'\n",
    "    if x>150:\n",
    "        return '매우나쁨'\n",
    "\n",
    "print(data.tail())\n",
    "data['PM10_cate']=data['PM10'].apply(PM10_cate)\n",
    "\n",
    "#test=pd.DataFrame(data.groupby(['Year','PM10_cate'], sort=False)['PM10'].mean().unstack(\"Year\"))\n",
    "\n",
    "# 평균\n",
    "#test=pd.DataFrame((data.groupby(['Year','PM10_cate'], sort=False)['PM10_cate'].mean().unstack(\"Year\")).round(2))\n",
    "# 빈도수\n",
    "#test=pd.DataFrame((data.groupby(['Year','PM10_cate'], sort=False)['PM10_cate'].count().unstack(\"Year\")).round(2))\n",
    "#colors = plt.cm.rainbow_r(np.linspace(0,1,10))\n",
    "\n",
    "# 평균\n",
    "#test=pd.DataFrame((data.groupby(['Year','PM10_cate'], sort=False)['PM10'].mean().unstack(\"Year\")).round(2))\n",
    "# 빈도수\n",
    "test=pd.DataFrame((data.groupby(['Year','PM10_cate'], sort=False)['PM10_cate'].count().unstack(\"Year\")).round(2))\n",
    "\n",
    "test=test.fillna(0)\n",
    "\n",
    "# 전체 년도별로 할 때\n",
    "colors = plt.cm.rainbow_r(np.linspace(0,1,12))\n",
    "\n",
    "# 계절에 따른 분류를 할 때는 아래 것을 사용\n",
    "#colors = plt.cm.rainbow_r(np.linspace(0,1,4))\n",
    "fig, ax = plt.subplots(1, 1)\n",
    "ax.get_xaxis().set_visible(False)\n",
    "ax.set_ylim(0,1400,100)\n",
    "\n",
    "test.plot(kind='bar',figsize=(16,15), color=colors, title=\"비도심지역의 년도, 미세먼지농도_빈도수 카테고리별 분석\", fontsize=13, table=True,ax=ax)\n"
   ]
  }
 ],
 "metadata": {
  "anaconda-cloud": {},
  "kernelspec": {
   "display_name": "Python 3",
   "language": "python",
   "name": "python3"
  },
  "language_info": {
   "codemirror_mode": {
    "name": "ipython",
    "version": 3
   },
   "file_extension": ".py",
   "mimetype": "text/x-python",
   "name": "python",
   "nbconvert_exporter": "python",
   "pygments_lexer": "ipython3",
   "version": "3.7.0"
  }
 },
 "nbformat": 4,
 "nbformat_minor": 1
}
