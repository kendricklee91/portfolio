{
 "cells": [
  {
   "cell_type": "code",
   "execution_count": null,
   "metadata": {},
   "outputs": [],
   "source": [
    "# import MySQL Module\n",
    "import pymysql\n",
    "from sqlalchemy import create_engine\n",
    "\n",
    "# import DataProcessing Module\n",
    "import pandas as pd\n",
    "import numpy as np\n",
    "import matplotlib\n",
    "import matplotlib.pyplot as plt\n",
    "\n",
    "import os\n",
    "\n",
    "engine = create_engine('')\n",
    "cnn = engine.connect()"
   ]
  },
  {
   "cell_type": "markdown",
   "metadata": {},
   "source": [
    "## 일별"
   ]
  },
  {
   "cell_type": "code",
   "execution_count": null,
   "metadata": {},
   "outputs": [],
   "source": [
    "'''\n",
    "2005년~2014년까지의 미세먼지 요인 데이터\n",
    "'''\n",
    "data_0514=pd.DataFrame()\n",
    "for filename in os.listdir(\"\"):\n",
    "    FD_data=pd.read_csv(''%filename, encoding='utf-8')\n",
    "    \n",
    "    # 측정일시 string형식 변환 및 시분단위 제거\n",
    "    FD_data['측정일시']=FD_data.측정일시.apply(str)\n",
    "    FD_data['측정일시']=FD_data.측정일시.str[:8]\n",
    "\n",
    "    # 측정일시 %Y-%m-%d 형식으로 변경\n",
    "    test_FD_data=pd.to_datetime(FD_data['측정일시'], format=\"%Y%m%d\")\n",
    "    FD_data['측정일시']=test_FD_data.apply(lambda x: x.strftime('%Y-%m-%d'))\n",
    "\n",
    "    FD_data[FD_data.columns[0]]=FD_data[FD_data.columns[0]].str[:2]\n",
    "\n",
    "    # NaN, null값 제거\n",
    "    for i in range(4,len(FD_data.columns)-1):\n",
    "            FD_data=FD_data[FD_data[FD_data.columns[i]]>0]\n",
    "\n",
    "    # 불필요한 칼럼 제거\n",
    "    del FD_data['주소']\n",
    "    del FD_data['측정소명']\n",
    "    del FD_data['측정소코드']\n",
    "        \n",
    "    # 지역과 측정일시별로 group by 측정일시의 경우 시간단위로 되어있음\n",
    "    FD_data=FD_data.groupby([FD_data.columns[0],'측정일시'])['SO2','CO','O3','NO2','PM10'].mean()      \n",
    "    \n",
    "    for i in range(0,len(FD_data.columns)):\n",
    "        FD_data[FD_data.columns[i]]=np.around(FD_data[FD_data.columns[i]],3)\n",
    "    \n",
    "    data_0514=data_0514.append(FD_data)\n",
    "\n",
    "'''\n",
    "2015년~2016년 1분기까지의 미세먼지 요인 데이터\n",
    "'''\n",
    "data_1516= pd.DataFrame()\n",
    "for filename in os.listdir(\"\"):\n",
    "    data_2016=pd.read_csv(''%filename, encoding='utf-8')\n",
    "    data_2016['측정일시']=data_2016.측정일시.apply(str)\n",
    "    data_2016['측정일시']=data_2016.측정일시.str[:8]\n",
    "\n",
    "    data_2016[data_2016.PM25 != 99999]\n",
    "    \n",
    "    test_data_2016=pd.to_datetime(data_2016['측정일시'], format=\"%Y%m%d\")\n",
    "    data_2016['측정일시']=test_data_2016.apply(lambda x: x.strftime('%Y-%m-%d'))\n",
    "\n",
    "    del data_2016['주소']\n",
    "    del data_2016['측정소명']\n",
    "\n",
    "    data_2016.columns=['Location','Date','SO2','CO','O3','NO2','PM10','PM25']\n",
    "    \n",
    "    data_2016.Location=data_2016.Location.str[0:2]\n",
    "\n",
    "    for i in range(3,len(data_2016.columns)):\n",
    "        data_2016=data_2016[data_2016[data_2016.columns[i]]>0]\n",
    "        \n",
    "    data_2016=data_2016.groupby(['Location','Date'])['SO2','CO','O3','NO2','PM10','PM25'].mean()\n",
    "\n",
    "    for i in range(0,len(data_2016.columns)):\n",
    "        data_2016[data_2016.columns[i]]=np.around(data_2016[data_2016.columns[i]],3)\n",
    "    \n",
    "    data_1516=data_1516.append(data_2016)\n",
    "    \n",
    "'''\n",
    "위의 두 데이터프레임을 합쳐서 DB에 넣음\n",
    "'''\n",
    "data_0514['PM25']=np.nan\n",
    "data_0514=data_0514.reset_index()\n",
    "\n",
    "data_1516=data_1516.reset_index()\n",
    "data_0514.columns=['Location','Date','SO2','CO','O3','NO2','PM10','PM25']\n",
    "\n",
    "total=pd.concat([data_0514, data_1516])\n",
    "total=total.set_index(['Location','Date'])\n",
    "total.to_pickle('total_dust.pickle')"
   ]
  },
  {
   "cell_type": "code",
   "execution_count": null,
   "metadata": {},
   "outputs": [],
   "source": [
    "'''\n",
    "기온데이터와 위에 미세먼지 데이터를 합친 데이터프레임 생성\n",
    "'''\n",
    "temp_data=pd.read_csv('', encoding='utf-8')\n",
    "temp_data=temp_data.fillna(0)\n",
    "unique_data=temp_data[temp_data.columns[0]].unique().tolist()\n",
    "    \n",
    "replace_data=['서울','인천','강원','경기','충북','대전','대구','전북','울산','광주','부산','전남','제주','충남','경북','경남']\n",
    "temp_data[temp_data.columns[0]]=temp_data[temp_data.columns[0]].replace(unique_data,replace_data)\n",
    "    \n",
    "temp_data.columns=['Location','Date','Temp','Rainfall','windPower','Humidity','Steam','SeaSteam' \\\n",
    "                  ,'DayLight', 'snow','Cloud','MiddleCloud','LandTemp','FogTimeArr']\n",
    "\n",
    "data=pd.merge(total.reset_index(),temp_data.reset_index(), on=['Date',temp_data.columns[0]], how='inner').set_index(['Date',temp_data.columns[0]])\n",
    "data=data.reset_index()\n",
    "del data['index']"
   ]
  },
  {
   "cell_type": "markdown",
   "metadata": {},
   "source": [
    "## 월별 미세먼지"
   ]
  },
  {
   "cell_type": "code",
   "execution_count": null,
   "metadata": {},
   "outputs": [],
   "source": [
    "data_monthly = data\n",
    "data_monthly.Date=data_monthly.Date.str[0:7]\n",
    "data_monthly=data_monthly.groupby(['Location','Date'])['SO2','CO','O3','NO2','PM10','PM25'].mean()\n",
    "\n",
    "data_monthly=data_monthly.round(3)\n",
    "data_monthly=data_monthly.reset_index()\n",
    "\n",
    "data_totals = data_monthly \n",
    "del data_totals['Location']\n",
    "data_totals=data_totals.groupby(['Date'])['SO2','CO','O3','NO2','PM10','PM25'].mean().round(3)\n",
    "data_totals['Location']='전국'"
   ]
  },
  {
   "cell_type": "code",
   "execution_count": null,
   "metadata": {},
   "outputs": [],
   "source": [
    "data_totals=data_totals.reset_index()\n",
    "data_totals=pd.DataFrame(data_totals, columns=['Location','Date','SO2','CO','O3','NO2','PM10','PM25'])"
   ]
  },
  {
   "cell_type": "code",
   "execution_count": null,
   "metadata": {},
   "outputs": [],
   "source": [
    "frame = [data_totals, data_monthly]\n",
    "result= pd.concat(frame)"
   ]
  },
  {
   "cell_type": "code",
   "execution_count": null,
   "metadata": {},
   "outputs": [],
   "source": [
    "result=pd.DataFrame(result, columns=['Location','Date','SO2','CO','O3','NO2','PM10','PM25'])\n",
    "result.head()"
   ]
  },
  {
   "cell_type": "code",
   "execution_count": null,
   "metadata": {},
   "outputs": [],
   "source": [
    "result.to_sql('', engine, flavor='mysql',if_exists='replace')"
   ]
  },
  {
   "cell_type": "code",
   "execution_count": null,
   "metadata": {},
   "outputs": [],
   "source": [
    "result.to_pickle('dust_monthly.pickle')"
   ]
  },
  {
   "cell_type": "markdown",
   "metadata": {},
   "source": [
    "# 월별 미세먼지 + 기상"
   ]
  },
  {
   "cell_type": "code",
   "execution_count": null,
   "metadata": {},
   "outputs": [],
   "source": [
    "data_monthly_air = data\n",
    "data_monthly_air.Date=data_monthly_air.Date.str[0:7]\n",
    "data_monthly_air=data_monthly_air.groupby(['Location','Date'])['SO2','CO','O3','NO2','PM10','PM25','Temp','Rainfall','Humidity','Steam','SeaSteam', \\\n",
    "                                                      'DayLight','snow','Cloud','MiddleCloud','LandTemp','FogTimeArr','windPower'].mean()\n",
    "\n",
    "data_monthly_air=data_monthly_air.round(3)\n",
    "\n",
    "engine= create_engine('mysql+pymysql://jh:jh@211.180.114.50/armway_db?charset=utf8')\n",
    "data_monthly_air.to_sql('20161122_month_air_wheather', engine, flavor='mysql',if_exists='append')"
   ]
  },
  {
   "cell_type": "markdown",
   "metadata": {},
   "source": [
    "# 년별"
   ]
  },
  {
   "cell_type": "code",
   "execution_count": null,
   "metadata": {},
   "outputs": [],
   "source": [
    "data_yearly = data\n",
    "data_yearly.Date = data_yearly.Date.str[0:4]\n",
    "data_yearly=data_yearly.groupby(['Location','Date'])['SO2','CO','O3','NO2','PM10','PM25'].mean()\n",
    "\n",
    "data_yearly=data_yearly.round(3)"
   ]
  },
  {
   "cell_type": "code",
   "execution_count": null,
   "metadata": {},
   "outputs": [],
   "source": [
    "data_yearly=data_yearly.reset_index()\n",
    "del data_yearly['Location']"
   ]
  },
  {
   "cell_type": "code",
   "execution_count": null,
   "metadata": {},
   "outputs": [],
   "source": [
    "data_yearly_total=data_yearly.groupby(['Date'])['SO2','CO','O3','NO2','PM10','PM25'].mean().round(3).reset_index()\n",
    "data_yearly_total['Location']='전국'\n",
    "data_yearly_total.tail()"
   ]
  },
  {
   "cell_type": "code",
   "execution_count": null,
   "metadata": {},
   "outputs": [],
   "source": [
    "data_yearly.tail()"
   ]
  },
  {
   "cell_type": "code",
   "execution_count": null,
   "metadata": {},
   "outputs": [],
   "source": [
    "data_yearly_total=pd.DataFrame(data_yearly_total, columns=['Location','Date','SO2','CO','O3','NO2','PM10','PM25'])"
   ]
  },
  {
   "cell_type": "code",
   "execution_count": null,
   "metadata": {},
   "outputs": [],
   "source": [
    "frames=[data_yearly, data_yearly_total]\n",
    "result_yearly=pd.concat(frames)"
   ]
  },
  {
   "cell_type": "code",
   "execution_count": null,
   "metadata": {},
   "outputs": [],
   "source": [
    "result_yearly.PM10=result_yearly.PM10.round(2)\n",
    "result_yearly.PM25=result_yearly.PM25.round(2)"
   ]
  },
  {
   "cell_type": "code",
   "execution_count": null,
   "metadata": {},
   "outputs": [],
   "source": [
    "result_yearly.to_sql('20161122_year_air_quality', engine, flavor='mysql',if_exists='replace')"
   ]
  },
  {
   "cell_type": "code",
   "execution_count": null,
   "metadata": {},
   "outputs": [],
   "source": [
    "data_yearly_air = data\n",
    "data_yearly_air.Date=data_yearly_air.Date.str[0:4]\n",
    "data_yearly_air=data_yearly_air.groupby(['Location','Date'])['SO2','CO','O3','NO2','PM10','PM25','Temp','Rainfall','Humidity','Steam','SeaSteam', \\\n",
    "                                                      'DayLight','snow','Cloud','MiddleCloud','LandTemp','FogTimeArr','windPower'].mean()\n",
    "\n",
    "data_yearly_air=data_yearly_air.round(3)\n",
    "\n",
    "engine= create_engine('')\n",
    "data_yearly_air.to_sql('', engine, flavor='mysql',if_exists='append')"
   ]
  }
 ],
 "metadata": {
  "anaconda-cloud": {},
  "kernelspec": {
   "display_name": "Python 3",
   "language": "python",
   "name": "python3"
  },
  "language_info": {
   "codemirror_mode": {
    "name": "ipython",
    "version": 3
   },
   "file_extension": ".py",
   "mimetype": "text/x-python",
   "name": "python",
   "nbconvert_exporter": "python",
   "pygments_lexer": "ipython3",
   "version": "3.7.0"
  }
 },
 "nbformat": 4,
 "nbformat_minor": 1
}
