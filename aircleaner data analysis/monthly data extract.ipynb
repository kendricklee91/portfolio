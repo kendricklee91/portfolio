{
 "cells": [
  {
   "cell_type": "code",
   "execution_count": null,
   "metadata": {},
   "outputs": [],
   "source": [
    "import pandas as pd\n",
    "import numpy as np\n",
    "from sqlalchemy import create_engine\n",
    "from pandas.io import sql\n",
    "\n",
    "import os"
   ]
  },
  {
   "cell_type": "code",
   "execution_count": null,
   "metadata": {},
   "outputs": [],
   "source": [
    "# ARIMA를 위한 월별 데이터 추출\n",
    "total_2015DF=pd.DataFrame()\n",
    "for filename in os.listdir(\"\"):\n",
    "    print(filename)\n",
    "    data=pd.read_csv(''%filename, encoding='utf-8')\n",
    "    \n",
    "    del data['측정소명']\n",
    "    del data['PM25']\n",
    "    del data['주소']\n",
    "\n",
    "    data[data.columns[0]]=data[data.columns[0]].str[:2]\n",
    "\n",
    "    data['측정일시']=data.측정일시.apply(str)\n",
    "    data['측정일시']=data.측정일시.str[:6]\n",
    "    test_data=pd.to_datetime(data['측정일시'], format=\"%Y%m\")\n",
    "    data['측정일시']=test_data.apply(lambda x: x.strftime('%Y-%m'))\n",
    "\n",
    "    for i in range(4,len(data.columns)-1):\n",
    "        data=data[data[data.columns[i]]>0]\n",
    "\n",
    "    data.columns=['Location','Date','SO2','CO','O3','NO2','PM10']\n",
    "    data=data.groupby(['Location','Date'])['SO2','CO','O3','NO2','PM10'].mean()\n",
    "\n",
    "    for i in range(0,len(data.columns)):\n",
    "        data[data.columns[i]]=np.around(data[data.columns[i]],3)\n",
    "        \n",
    "    total_2015DF=total_2015DF.append(data)\n",
    "\n",
    "total_2015DF=total_2015DF.reset_index()\n",
    "\n",
    "engine = create_engine('')\n",
    "cnn = engine.connect()\n",
    "\n",
    "dbData=sql.read_sql(\"\", cnn)\n",
    "\n",
    "del dbData['idx']\n",
    "total=dbData.append(total_2015DF)\n",
    "total=total.sort(['Date'], ascending=[True])"
   ]
  },
  {
   "cell_type": "code",
   "execution_count": null,
   "metadata": {},
   "outputs": [],
   "source": [
    "#CSV save\n",
    "total.to_csv('월별Total.csv')"
   ]
  },
  {
   "cell_type": "code",
   "execution_count": null,
   "metadata": {},
   "outputs": [],
   "source": [
    "''' 2016년도 1~3월까지 '''\n",
    "total_2016DF=pd.DataFrame()\n",
    "for filename in os.listdir(\"\"):\n",
    "    data=pd.read_csv(''%filename, encoding='utf-8')\n",
    "    del data['측정소코드']\n",
    "    del data['PM2.5']\n",
    "    del data['측정소명']\n",
    "\n",
    "    data.columns = ['Date','Location','SO2','CO','O3','NO2','PM10']\n",
    "    data[data.columns[1]]=data[data.columns[1]].str[:2]\n",
    "    data['Date']=data.Date.apply(str)\n",
    "    data['Date']=data.Date.str[:7]\n",
    "    test_data=pd.to_datetime(data['Date'], format=\"%Y-%m\")\n",
    "    data['Date']=test_data.apply(lambda x: x.strftime('%Y-%m'))\n",
    "    data=np.round(data.groupby(['Date','Location'])['SO2','CO','O3','NO2','PM10'].mean(),3)\n",
    "    data=data.reset_index()\n",
    "    \n",
    "    total_2016DF=total_2016DF.append(data)\n",
    "\n",
    "'''\n",
    "2005~2015년까지의 데이터와 2016년도의 데이터를 합침\n",
    "'''\n",
    "result=total.append(total_2016DF)\n",
    "result=pd.DataFrame(result,columns=['Date','Location','NO2','SO2','CO','PM10'])\n"
   ]
  },
  {
   "cell_type": "code",
   "execution_count": null,
   "metadata": {},
   "outputs": [],
   "source": [
    "result.to_csv(\"월별Total_2005_01to2016_03.csv\")"
   ]
  },
  {
   "cell_type": "code",
   "execution_count": null,
   "metadata": {},
   "outputs": [],
   "source": [
    "total_2016DF.to_csv(\"201603월별.csv\")"
   ]
  }
 ],
 "metadata": {
  "anaconda-cloud": {},
  "kernelspec": {
   "display_name": "Python 3",
   "language": "python",
   "name": "python3"
  },
  "language_info": {
   "codemirror_mode": {
    "name": "ipython",
    "version": 3
   },
   "file_extension": ".py",
   "mimetype": "text/x-python",
   "name": "python",
   "nbconvert_exporter": "python",
   "pygments_lexer": "ipython3",
   "version": "3.7.0"
  }
 },
 "nbformat": 4,
 "nbformat_minor": 1
}
