{
 "cells": [
  {
   "cell_type": "code",
   "execution_count": null,
   "metadata": {},
   "outputs": [],
   "source": [
    "from matplotlib.pyplot import savefig\n",
    "from matplotlib import font_manager, rc\n",
    "import matplotlib.pyplot as plt\n",
    "from pandas import DataFrame\n",
    "import pandas as pd\n",
    "import numpy as np\n",
    "\n",
    "%matplotlib inline\n",
    "\n",
    "#plot에 한글설정\n",
    "font_name = font_manager.FontProperties(fname = 'c:/Windows/Fonts/malgun.ttf').get_name()\n",
    "rc('font', family = font_name)\n",
    "\n",
    "#buyDate : 구매날짜\n",
    "#nowAge : 현재나이\n",
    "#pastAge : 과거나이\n",
    "#Location : 구매한 지역\n",
    "#consumerType : 구매한 공기청정기 타입\n",
    "#orderCount : 구매한 공기청정기 개수\n"
   ]
  },
  {
   "cell_type": "code",
   "execution_count": null,
   "metadata": {},
   "outputs": [],
   "source": [
    "df = pd.read_csv('', encoding='utf-8')\n",
    "df.columns = ['buyDate', 'nowAge', 'pastAge', 'Location', 'consumerType', 'orderCount']\n",
    "\n",
    "#구매날짜 datatype 변경 object -> string\n",
    "df.buyDate = df.buyDate.astype(str)\n",
    "\n",
    "df['Year'] = df.buyDate.str[0:4]\n",
    "df['Month'] = df.buyDate.str[4:6]\n",
    "\n",
    "#구매한 지역 세부분 분리\n",
    "df['Si'] = df.Location.str[0:2]\n",
    "df['Gu'] = df.Location.str[3:]\n",
    "\n",
    "df = pd.DataFrame(df, columns = ['Year', 'Month', 'Si', 'Gu', 'nowAge', 'consumerType', 'orderCount'])\n",
    "df"
   ]
  },
  {
   "cell_type": "markdown",
   "metadata": {},
   "source": [
    "# Location"
   ]
  },
  {
   "cell_type": "code",
   "execution_count": null,
   "metadata": {},
   "outputs": [],
   "source": [
    "df_location = df[df.Si.isin(['대구'])]\n",
    "np.round(df_location.groupby(['Year', 'Month', 'Si', 'Gu'])['nowAge', 'orderCount'].mean(), 2)"
   ]
  },
  {
   "cell_type": "markdown",
   "metadata": {},
   "source": [
    "# consumerType"
   ]
  },
  {
   "cell_type": "code",
   "execution_count": null,
   "metadata": {},
   "outputs": [],
   "source": [
    "#특정 Type만 출력\n",
    "df_consumerType = df[df.consumerType.isin(['A'])]\n",
    "df_consumerType.groupby(['Year', 'Month', 'Si', 'Gu', 'consumerType'])['nowAge', 'orderCount'].mean()"
   ]
  },
  {
   "cell_type": "code",
   "execution_count": null,
   "metadata": {},
   "outputs": [],
   "source": [
    "#지역별 Type 출력\n",
    "np.round(df.groupby(['Year', 'Month', 'Si', 'Gu', 'consumerType'])['nowAge', 'orderCount'].mean(), 2)"
   ]
  },
  {
   "cell_type": "code",
   "execution_count": null,
   "metadata": {},
   "outputs": [],
   "source": [
    "df = df[df.Year.isin(['2006']) & df.Si.isin(['서울'])]\n",
    "a = np.round(df.groupby(['Year', 'Month', 'Si', 'consumerType'])['orderCount'].mean(), 2)\n",
    "\n",
    "a.plot(kind = 'bar', figsize =(18, 10))"
   ]
  },
  {
   "cell_type": "code",
   "execution_count": null,
   "metadata": {},
   "outputs": [],
   "source": [
    "df = df[df.Year.isin(['2006']) & df.Si.isin(['서울'])]\n",
    "\n",
    "df_acount = df[df.Year.isin(['2006']) & df.Si.isin(['서울']) & df.consumerType.isin(['A'])]\n",
    "df_bcount = df[df.Year.isin(['2006']) & df.Si.isin(['서울']) & df.consumerType.isin(['B'])]\n",
    "df_ccount = df[df.Year.isin(['2006']) & df.Si.isin(['서울']) & df.consumerType.isin(['C'])]\n",
    "\n",
    "#print(df)\n",
    "\n",
    "###########################################################################################\n",
    "\n",
    "d = np.unique(df['Month'])\n",
    "\n",
    "#acount = np.round(df_acount.groupby(['Year', 'Month', 'Si', 'consumerType'])['orderCount'].mean(), 2)\n",
    "#bcount = np.round(df_bcount.groupby(['Year', 'Month', 'Si', 'consumerType'])['orderCount'].mean(), 2)\n",
    "#ccount = np.round(df_ccount.groupby(['Year', 'Month', 'Si', 'consumerType'])['orderCount'].mean(), 2)\n",
    "\n",
    "acount = df_acount.groupby(['Year', 'Month', 'Si', 'consumerType'])['orderCount'].sum()\n",
    "bcount = df_bcount.groupby(['Year', 'Month', 'Si', 'consumerType'])['orderCount'].sum()\n",
    "ccount = df_ccount.groupby(['Year', 'Month', 'Si', 'consumerType'])['orderCount'].sum()\n",
    "\n",
    "#datatype 형 변환 string -> int\n",
    "d = d.astype(int)\n",
    "\n",
    "#print(d)\n",
    "#print(len(d))\n",
    "\n",
    "###########################################################################################\n",
    "\n",
    "#[Series] 각 Type 별 Count Value 변수에 저장\n",
    "acount = acount.values\n",
    "bcount = bcount.values\n",
    "ccount = ccount.values\n",
    "\n",
    "#print(acount)\n",
    "#print(bcount)\n",
    "#print(ccount)\n",
    "\n",
    "###########################################################################################\n",
    "\n",
    "plt.figure(figsize = (18, 10))\n",
    "\n",
    "ax = plt.subplot(111)\n",
    "\n",
    "ax.bar(d-0.2, acount, width = 0.2, color = 'red', align = 'center')\n",
    "ax.bar(d, bcount, width = 0.2, color = 'navy', align = 'center')\n",
    "ax.bar(d+0.2, ccount, width = 0.2, color = 'green', align = 'center')\n",
    "\n",
    "ax.set_xlim(0.5 ,12.5)\n",
    "\n",
    "ax.set_title('2006년 서울특별시 공기청정기 Type 별 평균 구매')\n",
    "ax.set_ylabel('Type 별 평균 구매')\n",
    "ax.set_xlabel('2006년')\n",
    "ax.legend(('Type A', 'Type B', 'Type C'))\n",
    "\n",
    "plt.show()"
   ]
  }
 ],
 "metadata": {
  "anaconda-cloud": {},
  "kernelspec": {
   "display_name": "Python 3",
   "language": "python",
   "name": "python3"
  },
  "language_info": {
   "codemirror_mode": {
    "name": "ipython",
    "version": 3
   },
   "file_extension": ".py",
   "mimetype": "text/x-python",
   "name": "python",
   "nbconvert_exporter": "python",
   "pygments_lexer": "ipython3",
   "version": "3.7.0"
  }
 },
 "nbformat": 4,
 "nbformat_minor": 1
}
