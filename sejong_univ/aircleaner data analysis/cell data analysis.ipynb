{
 "cells": [
  {
   "cell_type": "code",
   "execution_count": null,
   "metadata": {},
   "outputs": [],
   "source": [
    "from matplotlib import font_manager, rc\n",
    "from matplotlib.pyplot import savefig\n",
    "import matplotlib.pyplot as plt\n",
    "from pandas.io import sql\n",
    "import pandas as pd\n",
    "import numpy as np\n",
    "\n",
    "%matplotlib inline\n",
    "\n",
    "font_name = font_manager.FontProperties(fname = 'C:/Windows/Fonts/malgun.ttf').get_name()\n",
    "rc('font', family = font_name, size=14)"
   ]
  },
  {
   "cell_type": "code",
   "execution_count": null,
   "metadata": {},
   "outputs": [],
   "source": [
    "cellData = pd.read_csv('', encoding='utf-8')\n",
    "\n",
    "cellData.Date = cellData.Date.astype(str)\n",
    "\n",
    "cellData['Year'] = cellData.Date.str[0:4]\n",
    "cellData['Month'] = cellData.Date.str[5:7]\n",
    "\n",
    "cellData = pd.DataFrame(cellData, columns = ['Year', 'Month', 'sumTotal'])\n",
    "cellData['Date']=cellData['Year']+\"-\"+cellData['Month']\n",
    "\n",
    "cellData = pd.DataFrame(cellData, columns=['Date','sumTotal'])\n",
    "cellData = cellData.set_index(['Date'])\n",
    "cellData.columns = ['판매액']"
   ]
  },
  {
   "cell_type": "markdown",
   "metadata": {},
   "source": [
    "# 총판매액"
   ]
  },
  {
   "cell_type": "code",
   "execution_count": null,
   "metadata": {},
   "outputs": [],
   "source": [
    "ax= cellData.plot(figsize=(16,10), title='암웨이 공기청정기 판매데이터 분석')\n",
    "\n",
    "ax.set_xticks(np.arange(0,len(cellData),12))\n",
    "\n",
    "date_range = pd.date_range('2006', '2017', freq='A')\n",
    "date_range = date_range.map(lambda t: t.strftime('%Y'))\n",
    "ax.tick_params(labelsize=20)\n",
    "ax.set_xticklabels(date_range)\n",
    "ax.grid(True)"
   ]
  },
  {
   "cell_type": "markdown",
   "metadata": {},
   "source": [
    "# 각 년도 매출 월"
   ]
  },
  {
   "cell_type": "code",
   "execution_count": null,
   "metadata": {},
   "outputs": [],
   "source": [
    "cellData = pd.read_csv('', encoding='utf-8')\n",
    "\n",
    "cellData.Date = cellData.Date.astype(str)\n",
    "\n",
    "cellData['Year'] = cellData.Date.str[0:4]\n",
    "cellData['Month'] = cellData.Date.str[5:7]\n",
    "\n",
    "cellData = pd.DataFrame(cellData, columns = ['Year', 'Month', 'sumTotal'])\n",
    "\n",
    "panma=pd.DataFrame()\n",
    "\n",
    "year_list = ['2006','2007','2008','2009','2010','2011','2012','2013','2014','2015','2016']\n",
    "\n",
    "for i in range(0,len(year_list)):\n",
    "    cellData_Year=cellData[cellData.Year.isin([year_list[i]])]\n",
    "    panma=panma.append(cellData_Year.ix[cellData_Year['sumTotal'].idxmax()])\n",
    "\n",
    "total_panma=pd.DataFrame(panma, columns=['Year','Month','sumTotal'])\n",
    "total_panma['Date']=total_panma['Year']+\"-\"+total_panma['Month']\n",
    "total_panma=total_panma.set_index(['Date'])\n",
    "total_panma.columns = ['Year','Month','판매액']\n",
    "total_panma.plot(figsize=(16,10), kind='bar', title='각 년별 최고 판매액 비교', rot=70)"
   ]
  },
  {
   "cell_type": "markdown",
   "metadata": {},
   "source": [
    "# 각년도 매출액 계절별 분석"
   ]
  },
  {
   "cell_type": "code",
   "execution_count": null,
   "metadata": {},
   "outputs": [],
   "source": [
    "cellData = pd.read_csv('', encoding='utf-8')\n",
    "\n",
    "cellData.Date = cellData.Date.astype(str)\n",
    "\n",
    "cellData['Year'] = cellData.Date.str[0:4]\n",
    "cellData['Month'] = cellData.Date.str[5:7]\n",
    "\n",
    "cellData = pd.DataFrame(cellData, columns = ['Year', 'Month', 'sumTotal'])\n",
    "\n",
    "cell_dict = {\"01\":\"겨울\",\"02\":\"겨울\",\"03\":\"봄\", \"04\":\"봄\", \"05\":\"봄\", \"06\":\"여름\", \"07\":\"여름\", \"08\":\"여름\",\\\n",
    "             \"09\":\"가을\",\"10\":\"가을\",\"11\":\"가을\",\"12\":\"겨울\"}\n",
    "cellData['Season']=cellData.Month.map(cell_dict)\n",
    "\n",
    "cellData=cellData.groupby(['Year','Season'])['sumTotal'].sum().unstack('Season')\n",
    "cellData.plot(figsize=(16,10), title=\"각 년에 따른 계절별 판매액 분석\")"
   ]
  }
 ],
 "metadata": {
  "kernelspec": {
   "display_name": "Python 3",
   "language": "python",
   "name": "python3"
  },
  "language_info": {
   "codemirror_mode": {
    "name": "ipython",
    "version": 3
   },
   "file_extension": ".py",
   "mimetype": "text/x-python",
   "name": "python",
   "nbconvert_exporter": "python",
   "pygments_lexer": "ipython3",
   "version": "3.7.0"
  }
 },
 "nbformat": 4,
 "nbformat_minor": 1
}
