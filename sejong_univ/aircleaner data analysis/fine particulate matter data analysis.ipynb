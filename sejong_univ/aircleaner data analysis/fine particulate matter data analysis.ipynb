{
 "cells": [
  {
   "cell_type": "code",
   "execution_count": null,
   "metadata": {},
   "outputs": [],
   "source": [
    "import pandas as pd\n",
    "import numpy as np\n",
    "from sqlalchemy import create_engine\n",
    "from pandas.io import sql\n",
    "\n",
    "from matplotlib.pyplot import savefig\n",
    "import matplotlib\n",
    "import os\n",
    "\n",
    "%matplotlib inline\n",
    "font_name = matplotlib.font_manager.FontProperties(fname='C:/Windows/Fonts/malgun.ttf').get_name()\n",
    "matplotlib.rc('font', family=font_name)\n",
    "\n",
    "pm25_data=pd.read_csv('', encoding='utf-8')\n",
    "pm25_data.columns=['Date','PM25']\n",
    "pm25_data=pm25_data.dropna()\n",
    "dbData=pd.read_pickle(\"../data/일별 미세먼지데이터.pickle\")\n",
    "\n",
    "dbData_seoul=dbData[dbData.Location.isin(['서울'])]\n",
    "\n",
    "total_pm25=pd.merge(dbData_seoul, pm25_data, how='inner', on=['Date'])"
   ]
  },
  {
   "cell_type": "code",
   "execution_count": null,
   "metadata": {},
   "outputs": [],
   "source": [
    "total=pd.DataFrame(total_pm25,columns=['Date','SO2','CO','O3','NO2','PM10','PM25'])\n",
    "total=total.set_index(['Date'])\n",
    "print(len(total))\n",
    "total.tail()"
   ]
  },
  {
   "cell_type": "code",
   "execution_count": null,
   "metadata": {},
   "outputs": [],
   "source": [
    "total.plot(subplots=True, figsize=(16,10))"
   ]
  },
  {
   "cell_type": "code",
   "execution_count": null,
   "metadata": {},
   "outputs": [],
   "source": [
    "total_30=pd.rolling_mean(total,30).plot(subplots=True, figsize=(16,10))\n",
    "total.corr()"
   ]
  },
  {
   "cell_type": "code",
   "execution_count": null,
   "metadata": {},
   "outputs": [],
   "source": [
    "import seaborn as sns\n",
    "import matplotlib.pyplot as plt\n",
    "sns.set(font_scale=1.5)\n",
    "f,ax = plt.subplots(figsize=(20,10))\n",
    "ax=sns.heatmap(total.corr(), annot=True, fmt=\".2f\", linewidths=.5)"
   ]
  },
  {
   "cell_type": "code",
   "execution_count": null,
   "metadata": {},
   "outputs": [],
   "source": [
    "pd.rolling_mean(total.PM25,30).plot(figsize=(16,5))"
   ]
  },
  {
   "cell_type": "code",
   "execution_count": null,
   "metadata": {},
   "outputs": [],
   "source": [
    "fig = plt.figure()\n",
    "x=([0,1,2,3,4,5])\n",
    "fig, ax = plt.subplots()\n",
    "plt.plot(total.corr().values[5])\n",
    "plt.xticks(x,['SO2','CO','O3','NO2','PM10','PM25'])\n",
    "plt.title(\"SO2, CO, O3, NO2, PM10, PM25 Correlation\")"
   ]
  },
  {
   "cell_type": "markdown",
   "metadata": {},
   "source": [
    "# 계절별분석과 년평균 확인"
   ]
  },
  {
   "cell_type": "code",
   "execution_count": null,
   "metadata": {},
   "outputs": [],
   "source": [
    "import matplotlib.pyplot as plt\n",
    "import matplotlib\n",
    "font_name = matplotlib.font_manager.FontProperties(fname='C:/Windows/Fonts/malgun.ttf').get_name()\n",
    "matplotlib.rc('font', family=font_name)\n",
    "\n",
    "total=pd.DataFrame(total_pm25,columns=['Date','PM25'])\n",
    "\n",
    "total_dict = {\"01\":\"겨울\",\"02\":\"겨울\",\"03\":\"봄\", \"04\":\"봄\", \"05\":\"봄\", \"06\":\"여름\", \"07\":\"여름\", \"08\":\"여름\",\\\n",
    "             \"09\":\"가을\",\"10\":\"가을\",\"11\":\"가을\",\"12\":\"겨울\"}\n",
    "total['Season']=total.Date.str[5:7].map(total_dict)\n",
    "total['Year']=total.Date.str[0:4]\n",
    "total['Day']=total.Date.str[5:]\n",
    "\n",
    "test=pd.DataFrame(total.groupby(['Year','Season'], sort=False)['PM25'].mean().unstack(\"Year\"))\n",
    "colors = plt.cm.rainbow_r(np.linspace(0,1,6))\n",
    "test.plot(kind='bar', figsize=(16,10), title=\"초미세먼지 계절별 수치 분석\",rot=0, fontsize=15, color=colors )"
   ]
  },
  {
   "cell_type": "code",
   "execution_count": null,
   "metadata": {},
   "outputs": [],
   "source": [
    "total_year=total.groupby(['Year'])['PM25'].mean()\n",
    "total_year.plot(figsize=(16,5), title=\"초미세먼지 년별분석\", legend=True, fontsize=15)"
   ]
  }
 ],
 "metadata": {
  "kernelspec": {
   "display_name": "Python 3",
   "language": "python",
   "name": "python3"
  },
  "language_info": {
   "codemirror_mode": {
    "name": "ipython",
    "version": 3
   },
   "file_extension": ".py",
   "mimetype": "text/x-python",
   "name": "python",
   "nbconvert_exporter": "python",
   "pygments_lexer": "ipython3",
   "version": "3.7.0"
  }
 },
 "nbformat": 4,
 "nbformat_minor": 1
}
