{
 "cells": [
  {
   "cell_type": "code",
   "execution_count": null,
   "metadata": {},
   "outputs": [],
   "source": [
    "from sqlalchemy import create_engine\n",
    "import numpy as np\n",
    "import pandas as pd\n",
    "from pandas.io import sql\n",
    "import matplotlib.pyplot as plt\n",
    "import os\n",
    "\n",
    "%matplotlib inline\n",
    "\n",
    "import matplotlib\n",
    "font_name = matplotlib.font_manager.FontProperties(fname='C:/Windows/Fonts/malgun.ttf').get_name()\n",
    "matplotlib.rc('font', family=font_name)"
   ]
  },
  {
   "cell_type": "code",
   "execution_count": null,
   "metadata": {},
   "outputs": [],
   "source": [
    "# 질병 CSV Read\n",
    "data=pd.read_csv('', encoding='utf-8')\n",
    "data.columns=['Date','만성비염','천식','아토피','아토피피부염','비염','알레르기비염','만성부비동염','결막염']\n",
    "\n",
    "# Database Data Collect\n",
    "pd.read_pickle(\"../data/월별 미세먼지데이터.pickle\")\n",
    "dbData = pd.DataFrame(dbData, columns=['Date','Location','PM10'])\n",
    "dbData=dbData.groupby(['Date'])['PM10'].mean()\n",
    "dbData=dbData.round(2)\n",
    "dbData=dbData.reset_index()\n",
    "\n",
    "# Data Merge\n",
    "total_data=data.merge(dbData, on=['Date']).set_index(['Date'])\n",
    "total_data.head()"
   ]
  },
  {
   "cell_type": "code",
   "execution_count": null,
   "metadata": {},
   "outputs": [],
   "source": [
    "'''\n",
    "전부 반비례함\n",
    "이것을 후행성이라 해야할 지는 모르겠는데\n",
    "미세먼지 수치가 최저로 감소할 때 아래의 질병들은 조회수가 늘어남\n",
    "만성비염, 비염, 결막염 등\n",
    "'''\n",
    "from matplotlib.pyplot import savefig\n",
    "\n",
    "test = total_data\n",
    "test = (test-test.mean())/(test.max()-test.min())\n",
    "test.PM10=test.PM10.shift()\n",
    "\n",
    "fig = plt.figure(figsize=(25,10))\n",
    "ax=fig.add_subplot(111)\n",
    "ax2=ax.twinx()\n",
    "\n",
    "test.PM10.plot(figsize=(16,10), ax=ax, style='r', legend=True, title=\"미세먼지 농도와 만성비염 네이버 트렌드 분석\", fontsize=15, rot=70)\n",
    "test.만성비염.plot(secondary_y=True, style='b',figsize=(16,10), legend=True)\n",
    "\n",
    "ax.set_xticks(np.arange(0, len(test), 12))\n",
    "\n",
    "date_range = pd.date_range('2007', '2017', freq='A')\n",
    "date_range = date_range.map(lambda t: t.strftime('%Y'))\n",
    "\n",
    "ax.set_xticklabels(date_range)\n",
    "ax.grid(True)"
   ]
  },
  {
   "cell_type": "code",
   "execution_count": null,
   "metadata": {},
   "outputs": [],
   "source": [
    "data=data.set_index(['Date'])\n",
    "test_data = (data-data.mean()) / (data.max() - data.min())\n",
    "test_data.columns"
   ]
  },
  {
   "cell_type": "code",
   "execution_count": null,
   "metadata": {},
   "outputs": [],
   "source": [
    "pd.DataFrame(test_data, columns=['알레르기비염','PM10']).plot(figsize=(16,10))\n",
    "#만성비염, 비염, 결막염, 알레르기비염"
   ]
  },
  {
   "cell_type": "code",
   "execution_count": null,
   "metadata": {},
   "outputs": [],
   "source": [
    "c.plot(figsize=(16,10))"
   ]
  }
 ],
 "metadata": {
  "anaconda-cloud": {},
  "kernelspec": {
   "display_name": "Python 3",
   "language": "python",
   "name": "python3"
  },
  "language_info": {
   "codemirror_mode": {
    "name": "ipython",
    "version": 3
   },
   "file_extension": ".py",
   "mimetype": "text/x-python",
   "name": "python",
   "nbconvert_exporter": "python",
   "pygments_lexer": "ipython3",
   "version": "3.7.0"
  }
 },
 "nbformat": 4,
 "nbformat_minor": 1
}
