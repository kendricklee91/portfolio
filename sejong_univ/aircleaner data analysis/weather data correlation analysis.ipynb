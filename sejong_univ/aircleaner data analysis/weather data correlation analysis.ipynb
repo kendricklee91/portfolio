{
 "cells": [
  {
   "cell_type": "code",
   "execution_count": null,
   "metadata": {},
   "outputs": [],
   "source": [
    "from sqlalchemy import create_engine\n",
    "from pandas.io import sql\n",
    "\n",
    "import matplotlib.pyplot as plt\n",
    "import numpy as np\n",
    "import pandas as pd\n",
    "\n",
    "%matplotlib inline"
   ]
  },
  {
   "cell_type": "code",
   "execution_count": null,
   "metadata": {},
   "outputs": [],
   "source": [
    "data=pd.read_pickle('weather_result.pickle')\n",
    "\n",
    "del data['index']"
   ]
  },
  {
   "cell_type": "code",
   "execution_count": null,
   "metadata": {},
   "outputs": [],
   "source": [
    "data_corr=data.corr()\n",
    "np.around(data_corr,3)"
   ]
  },
  {
   "cell_type": "code",
   "execution_count": null,
   "metadata": {},
   "outputs": [],
   "source": [
    "import seaborn as sns\n",
    "sns.set(font_scale=1.5)\n",
    "f, ax = plt.subplots(figsize=(20,10))\n",
    "sns_heatmap=sns.heatmap(data_corr,annot=True, fmt=\".2f\", linewidths=.5, cmap=\"RdBu_r\")"
   ]
  },
  {
   "cell_type": "code",
   "execution_count": null,
   "metadata": {},
   "outputs": [],
   "source": [
    "#data_ANOVA=data\n",
    "data_EDA=data\n",
    "\n",
    "# PM10 카테고리 구하기\n",
    "def PM10_cate(x):\n",
    "    if x<=30:\n",
    "        return 0\n",
    "    if x<=80:\n",
    "        return 1\n",
    "    if x<=150:\n",
    "        return 2\n",
    "    if x>150:\n",
    "        return 3\n",
    "\n",
    "def SO2_cate(x):\n",
    "    if x<=0.02:\n",
    "        return 0\n",
    "    if x<=0.05:\n",
    "        return 1\n",
    "    if x<=0.15:\n",
    "        return 2\n",
    "    if x>0.15:\n",
    "        return 3\n",
    "\n",
    "def NO2_cate(x):\n",
    "    if x<=0.03:\n",
    "        return 0\n",
    "    if x<=0.06:\n",
    "        return 1\n",
    "    if x<=0.2:\n",
    "        return 2\n",
    "    if x>0.2:\n",
    "        return 3\n",
    "\n",
    "def CO_cate(x):\n",
    "    if x<=2:\n",
    "        return 0\n",
    "    if x<=9:\n",
    "        return 1\n",
    "    if x<=15:\n",
    "        return 2\n",
    "    if x>15:\n",
    "        return 3\n",
    "    \n",
    "data_EDA['PM10_cate']=data_EDA['PM10'].apply(PM10_cate)\n",
    "data_EDA['SO2_cate']=data_EDA['SO2'].apply(SO2_cate)\n",
    "data_EDA['NO2_cate']=data_EDA['NO2'].apply(NO2_cate)\n",
    "data_EDA['CO_cate']=data_EDA['CO'].apply(CO_cate)\n",
    "\n",
    "data_EDA.tail()"
   ]
  },
  {
   "cell_type": "code",
   "execution_count": null,
   "metadata": {},
   "outputs": [],
   "source": [
    "# Season 구하기\n",
    "data_EDA=data_EDA.reset_index()\n",
    "def data_season(x):\n",
    "    if x in ('03','04','05'):\n",
    "        return 1\n",
    "    if x in ('06','07','08'):\n",
    "        return 2\n",
    "    if x in ('09','10','11'):\n",
    "        return 3\n",
    "    if x in ('12','01','02'):\n",
    "        return 4\n",
    "\n",
    "data_EDA['Season']=data_EDA['Date'].str[5:7].apply(data_season)\n",
    "\n",
    "data_EDA=data_EDA.set_index('Date')\n",
    "\n",
    "del data_EDA['index']\n",
    "\n",
    "data_EDA.head()"
   ]
  },
  {
   "cell_type": "code",
   "execution_count": null,
   "metadata": {},
   "outputs": [],
   "source": [
    "(data_EDA[(data_EDA.PM10_cate==0)&(data_EDA.Season==1)]).count()"
   ]
  },
  {
   "cell_type": "markdown",
   "metadata": {},
   "source": [
    "### 미세먼지와 기상간의 상관관계 분석"
   ]
  },
  {
   "cell_type": "code",
   "execution_count": null,
   "metadata": {},
   "outputs": [],
   "source": [
    "import statsmodels.api as sm\n",
    "from statsmodels.formula.api import ols\n",
    "import seaborn as sns\n",
    "\n",
    "print(data.columns)\n",
    "\n",
    "sns_pairplot=sns.pairplot(data, vars=['PM10','Temp','Rainfall','Humidity','Steam','Cloud','LandTemp'], kind='reg',palette='husl')"
   ]
  }
 ],
 "metadata": {
  "anaconda-cloud": {},
  "kernelspec": {
   "display_name": "Python 3",
   "language": "python",
   "name": "python3"
  },
  "language_info": {
   "codemirror_mode": {
    "name": "ipython",
    "version": 3
   },
   "file_extension": ".py",
   "mimetype": "text/x-python",
   "name": "python",
   "nbconvert_exporter": "python",
   "pygments_lexer": "ipython3",
   "version": "3.7.0"
  }
 },
 "nbformat": 4,
 "nbformat_minor": 1
}
