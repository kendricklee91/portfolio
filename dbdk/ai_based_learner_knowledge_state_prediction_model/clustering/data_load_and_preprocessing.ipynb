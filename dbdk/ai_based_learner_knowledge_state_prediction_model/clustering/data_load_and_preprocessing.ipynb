{
 "cells": [
  {
   "cell_type": "code",
   "execution_count": 1,
   "metadata": {},
   "outputs": [],
   "source": [
    "import pymssql\n",
    "import numpy as np\n",
    "import pandas as pd"
   ]
  },
  {
   "cell_type": "code",
   "execution_count": 2,
   "metadata": {},
   "outputs": [],
   "source": [
    "# query상에서 start_date & end_date 설정\n",
    "start_date = \"'2019-01-01'\"\n",
    "end_date = \"'2019-12-31'\""
   ]
  },
  {
   "cell_type": "markdown",
   "metadata": {},
   "source": [
    "### 추출 시 사용되는 테이블은 크게 총 4개(4개 테이블 외에도 있지만 맵핑이나 기타 다른 목적을 위해 사용됨)\n",
    "- 핵심 테이블은 V_RAW_D_학습, V_RAW_M\n",
    "\n",
    "1. MembershiP_membershipInformation: System ID - User ID 맵핑\n",
    "2. TBL_APP_Sales_Order: 유효 회원 구분\n",
    "3. V_RAW_D_학습: 학습 타입 및 유저 추출\n",
    "4. V_RAW_M: 학습 결과 추출"
   ]
  },
  {
   "cell_type": "markdown",
   "metadata": {},
   "source": [
    "# 0. 데이터 추출"
   ]
  },
  {
   "cell_type": "markdown",
   "metadata": {},
   "source": [
    "## 1. V_RAW_D_학습: phase 1"
   ]
  },
  {
   "cell_type": "markdown",
   "metadata": {},
   "source": [
    "### 1.1 connect to DB"
   ]
  },
  {
   "cell_type": "code",
   "execution_count": 3,
   "metadata": {},
   "outputs": [],
   "source": [
    "# MSSQL connection\n",
    "conn = pymssql.connect(host=r\"\",\n",
    "                       user='',\n",
    "                       password='',\n",
    "                       database='')\n",
    "\n",
    "# Connection으로부터 Cursor 생성\n",
    "cursor = conn.cursor()\n",
    "\n",
    "# set query\n",
    "query = \"SELECT B.UserId, A.메뉴명, A.타입, A.[강의 타입], A.L_Type FROM TABLE AS A INNER JOIN DB.dbo.TABLE AS B ON LOWER(A.ID)  = B.UserName AND 날짜 BETWEEN {} AND {}\".format(start_date, end_date)\n",
    "\n",
    "cursor.execute(query)\n",
    "\n",
    "# to define columns name\n",
    "col_names_list = []\n",
    "\n",
    "for i in range(len(cursor.description)):\n",
    "    col_names_list.append(cursor.description[i][0])\n",
    "    \n",
    "# set query\n",
    "query = \"SELECT B.UserId, A.메뉴명, A.타입, A.[강의 타입], A.L_Type FROM DB.dbo.TABLE AS A INNER JOIN DB.dbo.TABLE AS B ON LOWER(A.ID)  = B.UserName AND 날짜 BETWEEN {} AND {}\".format(start_date, end_date)"
   ]
  },
  {
   "cell_type": "markdown",
   "metadata": {},
   "source": [
    "### 1.2 read to data"
   ]
  },
  {
   "cell_type": "code",
   "execution_count": 4,
   "metadata": {},
   "outputs": [],
   "source": [
    "# read to data\n",
    "v_raw_d_study = pd.DataFrame(list(cursor.fetchall()), columns=col_names_list)\n",
    "\n",
    "# change to string type: 'UserId' UUID -> string\n",
    "v_raw_d_study['UserId'] = v_raw_d_study['UserId'].astype(str).str.upper().values"
   ]
  },
  {
   "cell_type": "markdown",
   "metadata": {},
   "source": [
    "## 2. Membership_MembershipInformation"
   ]
  },
  {
   "cell_type": "markdown",
   "metadata": {},
   "source": [
    "### 2.1 connect to DB"
   ]
  },
  {
   "cell_type": "code",
   "execution_count": 5,
   "metadata": {},
   "outputs": [],
   "source": [
    "# MSSQL connection\n",
    "conn = pymssql.connect(host=r\"\",\n",
    "                       user='',\n",
    "                       password='',\n",
    "                       database='')\n",
    "\n",
    "# Connection으로부터 Cursor 생성\n",
    "cursor = conn.cursor()\n",
    "\n",
    "# set query\n",
    "query = \"SELECT UserId, Gender, BirthDay, Address1 FROM DB.dbo.TABLE\"\n",
    "\n",
    "cursor.execute(query)\n",
    "\n",
    "# to define columns name\n",
    "col_names_list = []\n",
    "\n",
    "for i in range(len(cursor.description)):\n",
    "    col_names_list.append(cursor.description[i][0])\n",
    "    \n",
    "# set query\n",
    "query = \"SELECT UserId, Gender, BirthDay, Address1 FROM DB.dbo.TABLE\""
   ]
  },
  {
   "cell_type": "code",
   "execution_count": 6,
   "metadata": {},
   "outputs": [],
   "source": [
    "# read to data\n",
    "memb_info = pd.DataFrame(list(cursor.fetchall()), columns=col_names_list)\n",
    "memb_info = memb_info.sort_values(by='UserId')\n",
    "\n",
    "# change to string type: 'UserId' UUID -> string\n",
    "memb_info['UserId'] = memb_info['UserId'].astype(str).str.upper().values"
   ]
  },
  {
   "cell_type": "code",
   "execution_count": 7,
   "metadata": {},
   "outputs": [],
   "source": [
    "# V_RAW_D_학습 테이블에서 고려한 기간(start_date & end_date)과 학습 이력이 남겨진 학생을 기준으로 memb_info slicing:\n",
    "memb_info = memb_info[memb_info['UserId'].isin(v_raw_d_study['UserId'].unique())].reset_index(drop=True)"
   ]
  },
  {
   "cell_type": "markdown",
   "metadata": {},
   "source": [
    "### 2.2 preprocessing"
   ]
  },
  {
   "cell_type": "markdown",
   "metadata": {},
   "source": [
    "#### 2.2.1 수도권 여부 판별\n",
    "- 통상적으로 수도권 정의는 다음과 같음: 서울특별시, 인천광역시, 경기도(군사 분계선 이북 지역은 제외)\n",
    "- 그러나, 여기서는 경기도 부분의 세부 지역까지 고려하지 않음 즉, 경기도 전체를 수도권으로 봄"
   ]
  },
  {
   "cell_type": "code",
   "execution_count": 8,
   "metadata": {
    "scrolled": true
   },
   "outputs": [
    {
     "name": "stdout",
     "output_type": "stream",
     "text": [
      "###### [AttributeError] where the occurred: 5288\n",
      "###### [AttributeError] where the occurred: 8582\n",
      "###### [AttributeError] where the occurred: 10518\n",
      "###### [AttributeError] where the occurred: 13531\n",
      "###### [AttributeError] where the occurred: 15865\n",
      "###### [AttributeError] where the occurred: 17210\n",
      "###### [AttributeError] where the occurred: 19146\n",
      "###### [AttributeError] where the occurred: 28170\n",
      "###### [AttributeError] where the occurred: 28981\n",
      "###### [AttributeError] where the occurred: 30456\n",
      "###### [AttributeError] where the occurred: 30780\n",
      "###### [AttributeError] where the occurred: 31491\n",
      "###### [AttributeError] where the occurred: 32386\n",
      "###### [AttributeError] where the occurred: 36232\n",
      "###### [AttributeError] where the occurred: 41595\n",
      "###### [AttributeError] where the occurred: 45529\n",
      "###### [AttributeError] where the occurred: 48272\n",
      "###### [AttributeError] where the occurred: 48648\n",
      "###### [AttributeError] where the occurred: 52691\n",
      "###### [AttributeError] where the occurred: 57187\n",
      "###### [AttributeError] where the occurred: 58867\n",
      "###### [AttributeError] where the occurred: 60576\n",
      "###### [AttributeError] where the occurred: 68696\n",
      "###### [AttributeError] where the occurred: 74056\n",
      "###### [AttributeError] where the occurred: 74203\n"
     ]
    }
   ],
   "source": [
    "# 수도권 list\n",
    "capital_area_list = ['서울특별시', '인천광역시', '경기도']\n",
    "\n",
    "# 수도권 여부 컬럼 생성\n",
    "memb_info['capital_area'] = None\n",
    "\n",
    "idx = 0\n",
    "\n",
    "for adress in memb_info['Address1']:\n",
    "    try:\n",
    "        city = adress.split(' ')[0]\n",
    "        \n",
    "        if city in capital_area_list:\n",
    "            memb_info['capital_area'][idx] = 1 # 수도권 O\n",
    "        else:\n",
    "            memb_info['capital_area'][idx] = 0 # 수도권 X\n",
    "            \n",
    "    # cuase by split\n",
    "    except AttributeError:\n",
    "        print(\"###### [AttributeError] where the occurred:\", idx)\n",
    "    \n",
    "    idx += 1"
   ]
  },
  {
   "cell_type": "markdown",
   "metadata": {},
   "source": [
    "## 3. TBL_APP_Sales_Order"
   ]
  },
  {
   "cell_type": "markdown",
   "metadata": {},
   "source": [
    "### 3.1 connect to DB"
   ]
  },
  {
   "cell_type": "code",
   "execution_count": 9,
   "metadata": {},
   "outputs": [],
   "source": [
    "# MSSQL connection\n",
    "conn = pymssql.connect(host=r\"\",\n",
    "                       user='',\n",
    "                       password='',\n",
    "                       database='')\n",
    "\n",
    "# Connection으로부터 Cursor 생성\n",
    "cursor = conn.cursor()\n",
    "\n",
    "# set query\n",
    "query = \"SELECT A.UserID FROM DB.dbo.TABLE AS A LEFT JOIN DB.dbo.TABLE AS B ON A.OrderNo = B.OrderNo AND B.Status = '33' AND B.CancelDate < '2019-12-31 23:59:59.997' WHERE RegDate <= {} and ExpDate >= {} AND FreeYN = 'N' AND B.OrderNo IS NULL\".format(start_date, end_date)\n",
    "\n",
    "cursor.execute(query)"
   ]
  },
  {
   "cell_type": "code",
   "execution_count": 10,
   "metadata": {},
   "outputs": [],
   "source": [
    "# read to data: 유효회원의 UserID만 추출\n",
    "charge_user_list = list(cursor.fetchall())\n",
    "\n",
    "# UUID to string\n",
    "charge_user_list = pd.Series(charge_user_list).astype(str)"
   ]
  },
  {
   "cell_type": "code",
   "execution_count": 11,
   "metadata": {},
   "outputs": [],
   "source": [
    "# slicing (UUID('a071604f-9803-4d89-a5c2-b8305f533f2a'),) to a071604f-9803-4d89-a5c2-b8305f533f2a\n",
    "for i in range(len(charge_user_list)):\n",
    "    tmp = str(charge_user_list[i])[7:43]\n",
    "    tmp = tmp.upper()\n",
    "    \n",
    "    charge_user_list[i] = tmp"
   ]
  },
  {
   "cell_type": "code",
   "execution_count": 12,
   "metadata": {},
   "outputs": [],
   "source": [
    "memb_info['charge_memb'] = 0 # non-charged\n",
    "\n",
    "# charge_user_list를 memb_info에서 userid cheking 후 1로 변환\n",
    "memb_info.loc[memb_info['UserId'].isin(charge_user_list), 'charge_memb'] = 1 # charged"
   ]
  },
  {
   "cell_type": "markdown",
   "metadata": {},
   "source": [
    "## 1. V_RAW_D_학습: phase 2"
   ]
  },
  {
   "cell_type": "markdown",
   "metadata": {},
   "source": [
    "### 1.3 메뉴명별 수 추출"
   ]
  },
  {
   "cell_type": "code",
   "execution_count": 13,
   "metadata": {
    "scrolled": true
   },
   "outputs": [
    {
     "data": {
      "text/html": [
       "<div>\n",
       "<style scoped>\n",
       "    .dataframe tbody tr th:only-of-type {\n",
       "        vertical-align: middle;\n",
       "    }\n",
       "\n",
       "    .dataframe tbody tr th {\n",
       "        vertical-align: top;\n",
       "    }\n",
       "\n",
       "    .dataframe thead th {\n",
       "        text-align: right;\n",
       "    }\n",
       "</style>\n",
       "<table border=\"1\" class=\"dataframe\">\n",
       "  <thead>\n",
       "    <tr style=\"text-align: right;\">\n",
       "      <th></th>\n",
       "      <th>UserId</th>\n",
       "      <th>메뉴명</th>\n",
       "      <th>count</th>\n",
       "    </tr>\n",
       "  </thead>\n",
       "  <tbody>\n",
       "    <tr>\n",
       "      <th>0</th>\n",
       "      <td>0000B68D-EBC2-40FA-985D-A3454DDEFFA7</td>\n",
       "      <td>매일 보는 동화</td>\n",
       "      <td>59</td>\n",
       "    </tr>\n",
       "    <tr>\n",
       "      <th>1</th>\n",
       "      <td>0000B68D-EBC2-40FA-985D-A3454DDEFFA7</td>\n",
       "      <td>매일학교공부</td>\n",
       "      <td>196</td>\n",
       "    </tr>\n",
       "    <tr>\n",
       "      <th>2</th>\n",
       "      <td>0000B68D-EBC2-40FA-985D-A3454DDEFFA7</td>\n",
       "      <td>수준별수학</td>\n",
       "      <td>105</td>\n",
       "    </tr>\n",
       "    <tr>\n",
       "      <th>3</th>\n",
       "      <td>0000B68D-EBC2-40FA-985D-A3454DDEFFA7</td>\n",
       "      <td>수준별영어</td>\n",
       "      <td>123</td>\n",
       "    </tr>\n",
       "    <tr>\n",
       "      <th>4</th>\n",
       "      <td>0000B68D-EBC2-40FA-985D-A3454DDEFFA7</td>\n",
       "      <td>시험대비특강</td>\n",
       "      <td>4</td>\n",
       "    </tr>\n",
       "    <tr>\n",
       "      <th>...</th>\n",
       "      <td>...</td>\n",
       "      <td>...</td>\n",
       "      <td>...</td>\n",
       "    </tr>\n",
       "    <tr>\n",
       "      <th>543567</th>\n",
       "      <td>FFFE6EFD-14E1-46A1-B2AF-FB5E2CB3DE2E</td>\n",
       "      <td>수준별영어</td>\n",
       "      <td>133</td>\n",
       "    </tr>\n",
       "    <tr>\n",
       "      <th>543568</th>\n",
       "      <td>FFFE6EFD-14E1-46A1-B2AF-FB5E2CB3DE2E</td>\n",
       "      <td>시험대비특강</td>\n",
       "      <td>28</td>\n",
       "    </tr>\n",
       "    <tr>\n",
       "      <th>543569</th>\n",
       "      <td>FFFE6EFD-14E1-46A1-B2AF-FB5E2CB3DE2E</td>\n",
       "      <td>실력평가</td>\n",
       "      <td>8</td>\n",
       "    </tr>\n",
       "    <tr>\n",
       "      <th>543570</th>\n",
       "      <td>FFFE6EFD-14E1-46A1-B2AF-FB5E2CB3DE2E</td>\n",
       "      <td>첨삭과외</td>\n",
       "      <td>51</td>\n",
       "    </tr>\n",
       "    <tr>\n",
       "      <th>543571</th>\n",
       "      <td>FFFE6EFD-14E1-46A1-B2AF-FB5E2CB3DE2E</td>\n",
       "      <td>특별학습</td>\n",
       "      <td>66</td>\n",
       "    </tr>\n",
       "  </tbody>\n",
       "</table>\n",
       "<p>543572 rows × 3 columns</p>\n",
       "</div>"
      ],
      "text/plain": [
       "                                      UserId       메뉴명  count\n",
       "0       0000B68D-EBC2-40FA-985D-A3454DDEFFA7  매일 보는 동화     59\n",
       "1       0000B68D-EBC2-40FA-985D-A3454DDEFFA7    매일학교공부    196\n",
       "2       0000B68D-EBC2-40FA-985D-A3454DDEFFA7     수준별수학    105\n",
       "3       0000B68D-EBC2-40FA-985D-A3454DDEFFA7     수준별영어    123\n",
       "4       0000B68D-EBC2-40FA-985D-A3454DDEFFA7    시험대비특강      4\n",
       "...                                      ...       ...    ...\n",
       "543567  FFFE6EFD-14E1-46A1-B2AF-FB5E2CB3DE2E     수준별영어    133\n",
       "543568  FFFE6EFD-14E1-46A1-B2AF-FB5E2CB3DE2E    시험대비특강     28\n",
       "543569  FFFE6EFD-14E1-46A1-B2AF-FB5E2CB3DE2E      실력평가      8\n",
       "543570  FFFE6EFD-14E1-46A1-B2AF-FB5E2CB3DE2E      첨삭과외     51\n",
       "543571  FFFE6EFD-14E1-46A1-B2AF-FB5E2CB3DE2E      특별학습     66\n",
       "\n",
       "[543572 rows x 3 columns]"
      ]
     },
     "execution_count": 13,
     "metadata": {},
     "output_type": "execute_result"
    }
   ],
   "source": [
    "menu_df = pd.DataFrame(v_raw_d_study.groupby(['UserId', '메뉴명'])['UserId'].count()).rename(columns={'UserId':'count'})\n",
    "menu_df.reset_index(level=['UserId', '메뉴명'], inplace=True)\n",
    "menu_df"
   ]
  },
  {
   "cell_type": "code",
   "execution_count": 14,
   "metadata": {},
   "outputs": [
    {
     "data": {
      "text/plain": [
       "['매일학교공부',\n",
       " '수준별수학',\n",
       " '첨삭과외',\n",
       " '실력평가',\n",
       " '수준별영어',\n",
       " '매일 보는 동화',\n",
       " '특별학습',\n",
       " '중학특강',\n",
       " '시험대비특강',\n",
       " '키즈 수학',\n",
       " '',\n",
       " '키즈 한글',\n",
       " '키즈 영어',\n",
       " '예비초등',\n",
       " None]"
      ]
     },
     "execution_count": 14,
     "metadata": {},
     "output_type": "execute_result"
    }
   ],
   "source": [
    "menu_list = list(v_raw_d_study['메뉴명'].unique())\n",
    "menu_list"
   ]
  },
  {
   "cell_type": "code",
   "execution_count": 15,
   "metadata": {
    "scrolled": true
   },
   "outputs": [
    {
     "name": "stdout",
     "output_type": "stream",
     "text": [
      "area 1 | menu: 매일학교공부\n"
     ]
    },
    {
     "name": "stderr",
     "output_type": "stream",
     "text": [
      "/data/user/venv/model-irt/lib/python3.6/site-packages/ipykernel_launcher.py:16: SettingWithCopyWarning: \n",
      "A value is trying to be set on a copy of a slice from a DataFrame\n",
      "\n",
      "See the caveats in the documentation: http://pandas.pydata.org/pandas-docs/stable/user_guide/indexing.html#returning-a-view-versus-a-copy\n",
      "  app.launch_new_instance()\n"
     ]
    },
    {
     "name": "stdout",
     "output_type": "stream",
     "text": [
      "area 1 | menu: 수준별수학\n",
      "area 1 | menu: 첨삭과외\n",
      "area 1 | menu: 실력평가\n",
      "area 1 | menu: 수준별영어\n",
      "area 1 | menu: 매일 보는 동화\n",
      "area 1 | menu: 특별학습\n",
      "area 1 | menu: 중학특강\n",
      "area 1 | menu: 시험대비특강\n",
      "area 1 | menu: 키즈 수학\n",
      "area 1 | menu: \n",
      "area 1 | menu: 키즈 한글\n",
      "area 1 | menu: 키즈 영어\n",
      "area 1 | menu: 예비초등\n",
      "area 0 | menu: None\n"
     ]
    },
    {
     "name": "stderr",
     "output_type": "stream",
     "text": [
      "/data/user/venv/model-irt/lib/python3.6/site-packages/ipykernel_launcher.py:11: SettingWithCopyWarning: \n",
      "A value is trying to be set on a copy of a slice from a DataFrame\n",
      "\n",
      "See the caveats in the documentation: http://pandas.pydata.org/pandas-docs/stable/user_guide/indexing.html#returning-a-view-versus-a-copy\n",
      "  # This is added back by InteractiveShellApp.init_path()\n"
     ]
    }
   ],
   "source": [
    "for menu in menu_list:\n",
    "    memb_info['메뉴명:{}_수'.format(menu)] = None\n",
    "    \n",
    "    if menu==None:\n",
    "        print(\"area 0 | menu: {}\".format(menu))\n",
    "        menu_df = pd.DataFrame(v_raw_d_study[v_raw_d_study['메뉴명'].isnull()].groupby(['UserId'])['UserId'].count()).rename(columns={'UserId':'count'})\n",
    "        menu_df.reset_index(level=['UserId'], inplace=True)\n",
    "        \n",
    "        for row in menu_df.values:\n",
    "            idx = memb_info[memb_info['UserId']==row[0]].index[0]\n",
    "            memb_info['메뉴명:{}_수'.format(menu)][idx] = row[1]\n",
    "    else:\n",
    "        print(\"area 1 | menu: {}\".format(menu))\n",
    "        for row in menu_df[menu_df['메뉴명']==menu].values:\n",
    "            idx = memb_info[memb_info['UserId']==row[0]].index[0]\n",
    "            memb_info['메뉴명:{}_수'.format(menu)][idx] = row[2]"
   ]
  },
  {
   "cell_type": "markdown",
   "metadata": {},
   "source": [
    "### 1.4 강의 타입 별 수 추출"
   ]
  },
  {
   "cell_type": "code",
   "execution_count": 16,
   "metadata": {},
   "outputs": [
    {
     "data": {
      "text/html": [
       "<div>\n",
       "<style scoped>\n",
       "    .dataframe tbody tr th:only-of-type {\n",
       "        vertical-align: middle;\n",
       "    }\n",
       "\n",
       "    .dataframe tbody tr th {\n",
       "        vertical-align: top;\n",
       "    }\n",
       "\n",
       "    .dataframe thead th {\n",
       "        text-align: right;\n",
       "    }\n",
       "</style>\n",
       "<table border=\"1\" class=\"dataframe\">\n",
       "  <thead>\n",
       "    <tr style=\"text-align: right;\">\n",
       "      <th></th>\n",
       "      <th>UserId</th>\n",
       "      <th>강의 타입</th>\n",
       "      <th>count</th>\n",
       "    </tr>\n",
       "  </thead>\n",
       "  <tbody>\n",
       "    <tr>\n",
       "      <th>0</th>\n",
       "      <td>0000B68D-EBC2-40FA-985D-A3454DDEFFA7</td>\n",
       "      <td>(영상+문제)</td>\n",
       "      <td>333</td>\n",
       "    </tr>\n",
       "    <tr>\n",
       "      <th>1</th>\n",
       "      <td>0000B68D-EBC2-40FA-985D-A3454DDEFFA7</td>\n",
       "      <td>문제</td>\n",
       "      <td>4</td>\n",
       "    </tr>\n",
       "    <tr>\n",
       "      <th>2</th>\n",
       "      <td>0000B68D-EBC2-40FA-985D-A3454DDEFFA7</td>\n",
       "      <td>영상</td>\n",
       "      <td>169</td>\n",
       "    </tr>\n",
       "    <tr>\n",
       "      <th>3</th>\n",
       "      <td>0000B68D-EBC2-40FA-985D-A3454DDEFFA7</td>\n",
       "      <td>첨삭</td>\n",
       "      <td>15</td>\n",
       "    </tr>\n",
       "    <tr>\n",
       "      <th>4</th>\n",
       "      <td>0001F20D-B1C7-4101-95A9-B82763380CBE</td>\n",
       "      <td>(영상+문제)</td>\n",
       "      <td>707</td>\n",
       "    </tr>\n",
       "    <tr>\n",
       "      <th>...</th>\n",
       "      <td>...</td>\n",
       "      <td>...</td>\n",
       "      <td>...</td>\n",
       "    </tr>\n",
       "    <tr>\n",
       "      <th>278418</th>\n",
       "      <td>FFFDB3C4-D666-4516-92F7-C6F5BD9721D4</td>\n",
       "      <td>첨삭</td>\n",
       "      <td>47</td>\n",
       "    </tr>\n",
       "    <tr>\n",
       "      <th>278419</th>\n",
       "      <td>FFFE6EFD-14E1-46A1-B2AF-FB5E2CB3DE2E</td>\n",
       "      <td>(영상+문제)</td>\n",
       "      <td>961</td>\n",
       "    </tr>\n",
       "    <tr>\n",
       "      <th>278420</th>\n",
       "      <td>FFFE6EFD-14E1-46A1-B2AF-FB5E2CB3DE2E</td>\n",
       "      <td>문제</td>\n",
       "      <td>26</td>\n",
       "    </tr>\n",
       "    <tr>\n",
       "      <th>278421</th>\n",
       "      <td>FFFE6EFD-14E1-46A1-B2AF-FB5E2CB3DE2E</td>\n",
       "      <td>영상</td>\n",
       "      <td>79</td>\n",
       "    </tr>\n",
       "    <tr>\n",
       "      <th>278422</th>\n",
       "      <td>FFFE6EFD-14E1-46A1-B2AF-FB5E2CB3DE2E</td>\n",
       "      <td>첨삭</td>\n",
       "      <td>51</td>\n",
       "    </tr>\n",
       "  </tbody>\n",
       "</table>\n",
       "<p>278423 rows × 3 columns</p>\n",
       "</div>"
      ],
      "text/plain": [
       "                                      UserId    강의 타입  count\n",
       "0       0000B68D-EBC2-40FA-985D-A3454DDEFFA7  (영상+문제)    333\n",
       "1       0000B68D-EBC2-40FA-985D-A3454DDEFFA7       문제      4\n",
       "2       0000B68D-EBC2-40FA-985D-A3454DDEFFA7       영상    169\n",
       "3       0000B68D-EBC2-40FA-985D-A3454DDEFFA7       첨삭     15\n",
       "4       0001F20D-B1C7-4101-95A9-B82763380CBE  (영상+문제)    707\n",
       "...                                      ...      ...    ...\n",
       "278418  FFFDB3C4-D666-4516-92F7-C6F5BD9721D4       첨삭     47\n",
       "278419  FFFE6EFD-14E1-46A1-B2AF-FB5E2CB3DE2E  (영상+문제)    961\n",
       "278420  FFFE6EFD-14E1-46A1-B2AF-FB5E2CB3DE2E       문제     26\n",
       "278421  FFFE6EFD-14E1-46A1-B2AF-FB5E2CB3DE2E       영상     79\n",
       "278422  FFFE6EFD-14E1-46A1-B2AF-FB5E2CB3DE2E       첨삭     51\n",
       "\n",
       "[278423 rows x 3 columns]"
      ]
     },
     "execution_count": 16,
     "metadata": {},
     "output_type": "execute_result"
    }
   ],
   "source": [
    "lec_type_df = pd.DataFrame(v_raw_d_study.groupby(['UserId', '강의 타입'])['UserId'].count()).rename(columns={'UserId':'count'})\n",
    "lec_type_df.reset_index(level=['UserId', '강의 타입'], inplace=True)\n",
    "lec_type_df"
   ]
  },
  {
   "cell_type": "code",
   "execution_count": 17,
   "metadata": {},
   "outputs": [
    {
     "data": {
      "text/plain": [
       "['(영상+문제)',\n",
       " '첨삭',\n",
       " '문제',\n",
       " '영상',\n",
       " 'T_ABILITY_EVAL_SS_OL없음',\n",
       " 'CORE없음',\n",
       " 'WHY없음',\n",
       " 'T_PENG없음']"
      ]
     },
     "execution_count": 17,
     "metadata": {},
     "output_type": "execute_result"
    }
   ],
   "source": [
    "lec_type_list = list(v_raw_d_study['강의 타입'].unique())\n",
    "lec_type_list"
   ]
  },
  {
   "cell_type": "code",
   "execution_count": 18,
   "metadata": {
    "scrolled": true
   },
   "outputs": [
    {
     "name": "stdout",
     "output_type": "stream",
     "text": [
      "running of preprocessing type: (영상+문제)\n"
     ]
    },
    {
     "name": "stderr",
     "output_type": "stream",
     "text": [
      "/data/user/venv/model-irt/lib/python3.6/site-packages/ipykernel_launcher.py:7: SettingWithCopyWarning: \n",
      "A value is trying to be set on a copy of a slice from a DataFrame\n",
      "\n",
      "See the caveats in the documentation: http://pandas.pydata.org/pandas-docs/stable/user_guide/indexing.html#returning-a-view-versus-a-copy\n",
      "  import sys\n"
     ]
    },
    {
     "name": "stdout",
     "output_type": "stream",
     "text": [
      "running of preprocessing type: 첨삭\n",
      "running of preprocessing type: 문제\n",
      "running of preprocessing type: 영상\n",
      "running of preprocessing type: T_ABILITY_EVAL_SS_OL없음\n",
      "running of preprocessing type: CORE없음\n",
      "running of preprocessing type: WHY없음\n",
      "running of preprocessing type: T_PENG없음\n"
     ]
    }
   ],
   "source": [
    "for lec_type in lec_type_list:\n",
    "    print(\"running of preprocessing type: {}\".format(lec_type))\n",
    "    memb_info['강의타입:{}_수'.format(lec_type)] = None\n",
    "    \n",
    "    for row in lec_type_df[lec_type_df['강의 타입']==lec_type].values:\n",
    "        idx = memb_info[memb_info['UserId']==row[0]].index[0]\n",
    "        memb_info['강의타입:{}_수'.format(lec_type)][idx] = row[2]"
   ]
  },
  {
   "cell_type": "markdown",
   "metadata": {},
   "source": [
    "### 1.5 타입 별 수 추출"
   ]
  },
  {
   "cell_type": "code",
   "execution_count": 19,
   "metadata": {},
   "outputs": [
    {
     "data": {
      "text/html": [
       "<div>\n",
       "<style scoped>\n",
       "    .dataframe tbody tr th:only-of-type {\n",
       "        vertical-align: middle;\n",
       "    }\n",
       "\n",
       "    .dataframe tbody tr th {\n",
       "        vertical-align: top;\n",
       "    }\n",
       "\n",
       "    .dataframe thead th {\n",
       "        text-align: right;\n",
       "    }\n",
       "</style>\n",
       "<table border=\"1\" class=\"dataframe\">\n",
       "  <thead>\n",
       "    <tr style=\"text-align: right;\">\n",
       "      <th></th>\n",
       "      <th>UserId</th>\n",
       "      <th>타입</th>\n",
       "      <th>count</th>\n",
       "    </tr>\n",
       "  </thead>\n",
       "  <tbody>\n",
       "    <tr>\n",
       "      <th>0</th>\n",
       "      <td>0000B68D-EBC2-40FA-985D-A3454DDEFFA7</td>\n",
       "      <td>순수학습</td>\n",
       "      <td>177</td>\n",
       "    </tr>\n",
       "    <tr>\n",
       "      <th>1</th>\n",
       "      <td>0000B68D-EBC2-40FA-985D-A3454DDEFFA7</td>\n",
       "      <td>차시</td>\n",
       "      <td>185</td>\n",
       "    </tr>\n",
       "    <tr>\n",
       "      <th>2</th>\n",
       "      <td>0000B68D-EBC2-40FA-985D-A3454DDEFFA7</td>\n",
       "      <td>코스</td>\n",
       "      <td>159</td>\n",
       "    </tr>\n",
       "    <tr>\n",
       "      <th>3</th>\n",
       "      <td>0001F20D-B1C7-4101-95A9-B82763380CBE</td>\n",
       "      <td>순수학습</td>\n",
       "      <td>341</td>\n",
       "    </tr>\n",
       "    <tr>\n",
       "      <th>4</th>\n",
       "      <td>0001F20D-B1C7-4101-95A9-B82763380CBE</td>\n",
       "      <td>코스</td>\n",
       "      <td>434</td>\n",
       "    </tr>\n",
       "    <tr>\n",
       "      <th>...</th>\n",
       "      <td>...</td>\n",
       "      <td>...</td>\n",
       "      <td>...</td>\n",
       "    </tr>\n",
       "    <tr>\n",
       "      <th>206559</th>\n",
       "      <td>FFFDB3C4-D666-4516-92F7-C6F5BD9721D4</td>\n",
       "      <td>차시</td>\n",
       "      <td>256</td>\n",
       "    </tr>\n",
       "    <tr>\n",
       "      <th>206560</th>\n",
       "      <td>FFFDB3C4-D666-4516-92F7-C6F5BD9721D4</td>\n",
       "      <td>코스</td>\n",
       "      <td>569</td>\n",
       "    </tr>\n",
       "    <tr>\n",
       "      <th>206561</th>\n",
       "      <td>FFFE6EFD-14E1-46A1-B2AF-FB5E2CB3DE2E</td>\n",
       "      <td>순수학습</td>\n",
       "      <td>465</td>\n",
       "    </tr>\n",
       "    <tr>\n",
       "      <th>206562</th>\n",
       "      <td>FFFE6EFD-14E1-46A1-B2AF-FB5E2CB3DE2E</td>\n",
       "      <td>차시</td>\n",
       "      <td>133</td>\n",
       "    </tr>\n",
       "    <tr>\n",
       "      <th>206563</th>\n",
       "      <td>FFFE6EFD-14E1-46A1-B2AF-FB5E2CB3DE2E</td>\n",
       "      <td>코스</td>\n",
       "      <td>519</td>\n",
       "    </tr>\n",
       "  </tbody>\n",
       "</table>\n",
       "<p>206564 rows × 3 columns</p>\n",
       "</div>"
      ],
      "text/plain": [
       "                                      UserId    타입  count\n",
       "0       0000B68D-EBC2-40FA-985D-A3454DDEFFA7  순수학습    177\n",
       "1       0000B68D-EBC2-40FA-985D-A3454DDEFFA7    차시    185\n",
       "2       0000B68D-EBC2-40FA-985D-A3454DDEFFA7    코스    159\n",
       "3       0001F20D-B1C7-4101-95A9-B82763380CBE  순수학습    341\n",
       "4       0001F20D-B1C7-4101-95A9-B82763380CBE    코스    434\n",
       "...                                      ...   ...    ...\n",
       "206559  FFFDB3C4-D666-4516-92F7-C6F5BD9721D4    차시    256\n",
       "206560  FFFDB3C4-D666-4516-92F7-C6F5BD9721D4    코스    569\n",
       "206561  FFFE6EFD-14E1-46A1-B2AF-FB5E2CB3DE2E  순수학습    465\n",
       "206562  FFFE6EFD-14E1-46A1-B2AF-FB5E2CB3DE2E    차시    133\n",
       "206563  FFFE6EFD-14E1-46A1-B2AF-FB5E2CB3DE2E    코스    519\n",
       "\n",
       "[206564 rows x 3 columns]"
      ]
     },
     "execution_count": 19,
     "metadata": {},
     "output_type": "execute_result"
    }
   ],
   "source": [
    "type_df = pd.DataFrame(v_raw_d_study.groupby(['UserId', '타입'])['UserId'].count()).rename(columns={'UserId':'count'})\n",
    "type_df.reset_index(level=['UserId', '타입'], inplace=True)\n",
    "type_df"
   ]
  },
  {
   "cell_type": "code",
   "execution_count": 20,
   "metadata": {},
   "outputs": [
    {
     "data": {
      "text/plain": [
       "['코스', '순수학습', '차시', None]"
      ]
     },
     "execution_count": 20,
     "metadata": {},
     "output_type": "execute_result"
    }
   ],
   "source": [
    "type_list = list(v_raw_d_study['타입'].unique())\n",
    "type_list"
   ]
  },
  {
   "cell_type": "code",
   "execution_count": 21,
   "metadata": {},
   "outputs": [
    {
     "name": "stdout",
     "output_type": "stream",
     "text": [
      "area 1 | type: 코스\n"
     ]
    },
    {
     "name": "stderr",
     "output_type": "stream",
     "text": [
      "/data/user/venv/model-irt/lib/python3.6/site-packages/ipykernel_launcher.py:16: SettingWithCopyWarning: \n",
      "A value is trying to be set on a copy of a slice from a DataFrame\n",
      "\n",
      "See the caveats in the documentation: http://pandas.pydata.org/pandas-docs/stable/user_guide/indexing.html#returning-a-view-versus-a-copy\n",
      "  app.launch_new_instance()\n"
     ]
    },
    {
     "name": "stdout",
     "output_type": "stream",
     "text": [
      "area 1 | type: 순수학습\n",
      "area 1 | type: 차시\n",
      "area 0 | type: None\n"
     ]
    },
    {
     "name": "stderr",
     "output_type": "stream",
     "text": [
      "/data/user/venv/model-irt/lib/python3.6/site-packages/ipykernel_launcher.py:11: SettingWithCopyWarning: \n",
      "A value is trying to be set on a copy of a slice from a DataFrame\n",
      "\n",
      "See the caveats in the documentation: http://pandas.pydata.org/pandas-docs/stable/user_guide/indexing.html#returning-a-view-versus-a-copy\n",
      "  # This is added back by InteractiveShellApp.init_path()\n"
     ]
    }
   ],
   "source": [
    "for type in type_list:\n",
    "    memb_info['타입:{}_수'.format(type)] = None\n",
    "    \n",
    "    if type==None:\n",
    "        print(\"area 0 | type: {}\".format(type))\n",
    "        type_df = pd.DataFrame(v_raw_d_study[v_raw_d_study['타입'].isnull()].groupby(['UserId'])['UserId'].count()).rename(columns={'UserId':'count'})\n",
    "        type_df.reset_index(level=['UserId'], inplace=True)\n",
    "        \n",
    "        for row in type_df.values:\n",
    "            idx = memb_info[memb_info['UserId']==row[0]].index[0]\n",
    "            memb_info['타입:{}_수'.format(type)][idx] = row[1]\n",
    "    else:\n",
    "        print(\"area 1 | type: {}\".format(type))\n",
    "        for row in type_df[type_df['타입']==type].values:\n",
    "            idx = memb_info[memb_info['UserId']==row[0]].index[0]\n",
    "            memb_info['타입:{}_수'.format(type)][idx] = row[2]"
   ]
  },
  {
   "cell_type": "markdown",
   "metadata": {},
   "source": [
    "## 4. V_RAW_M(Report Table)"
   ]
  },
  {
   "cell_type": "markdown",
   "metadata": {},
   "source": [
    "### 4.1 connect to DB"
   ]
  },
  {
   "cell_type": "code",
   "execution_count": 22,
   "metadata": {},
   "outputs": [],
   "source": [
    "# MSSQL connection\n",
    "conn = pymssql.connect(host=r\"\",\n",
    "                       user='',\n",
    "                       password='',\n",
    "                       database='')\n",
    "\n",
    "# Connection으로부터 Cursor 생성\n",
    "cursor = conn.cursor()\n",
    "\n",
    "# set query\n",
    "query = \"SELECT [USERID], [집계월], [말일기준 학년], [진도코스], [말일기준 누적 학습기간], [출석횟수], [출석횟수_토, 일 출석 제외] ,[출석율], [완료학습개수], [계획완료개수_코스], [계획완료개수_차시추가], [비계획완료], [순수완료], [풀이문항수(한글)], [풀이문항수(안전한 생활)], [풀이문항수(영어)], [풀이문항수(국어)], [풀이문항수(수학)], [풀이문항수(과학)] ,[풀이문항수(봄여름가을겨울)], [풀이문항수(사회)], [풀이문항수(독서 논술)], [풀이문항수(매일 보는 동화)], [정답수(한글)], [정답수(안전한 생활)], [정답수(영어)], [정답수(국어)], [정답수(수학)], [정답수(과학)], [정답수(봄여름가을겨울)], [정답수(사회)], [정답수(독서 논술)], [정답수(매일 보는 동화)], [오답노트 담긴 강의 수(한글)], [오답노트 담긴 강의 수(안전한 생활)], [오답노트 담긴 강의 수(영어)], [오답노트 담긴 강의 수(국어)], [오답노트 담긴 강의 수(수학)], [오답노트 담긴 강의 수(과학)], [오답노트 담긴 강의 수(봄여름가을겨울)], [오답노트 담긴 강의 수(사회)], [오답노트 담긴 강의 수(독서 논술)], [오답노트 담긴 강의 수(매일 보는 동화)], [학습한 오답노트 강의 수(한글)], [학습한 오답노트 강의 수(안전한 생활)], [학습한 오답노트 강의 수(영어)], [학습한 오답노트 강의 수(국어)], [학습한 오답노트 강의 수(수학)], [학습한 오답노트 강의 수(과학)], [학습한 오답노트 강의 수(봄여름가을겨울)], [학습한 오답노트 강의 수(사회)], [학습한 오답노트 강의 수(독서 논술)], [학습한 오답노트 강의 수(매일 보는 동화)], [점수(한글)], [점수(안전한 생활)], [점수(영어)], [점수(국어)], [점수(수학)], [점수(과학)], [점수(봄여름가을겨울)], [점수(사회)], [점수(독서 논술)], [점수(매일 보는 동화)] FROM [DB].[dbo].[TABLE]\"\n",
    "\n",
    "cursor.execute(query)\n",
    "\n",
    "# to define columns name\n",
    "col_names_list = []\n",
    "\n",
    "for i in range(len(cursor.description)):\n",
    "    col_names_list.append(cursor.description[i][0])\n",
    "    \n",
    "# set query\n",
    "query = \"SELECT [USERID], [집계월], [말일기준 학년], [진도코스], [말일기준 누적 학습기간], [출석횟수], [출석횟수_토, 일 출석 제외] ,[출석율], [완료학습개수], [계획완료개수_코스], [계획완료개수_차시추가], [비계획완료], [순수완료], [풀이문항수(한글)], [풀이문항수(안전한 생활)], [풀이문항수(영어)], [풀이문항수(국어)], [풀이문항수(수학)], [풀이문항수(과학)] ,[풀이문항수(봄여름가을겨울)], [풀이문항수(사회)], [풀이문항수(독서 논술)], [풀이문항수(매일 보는 동화)], [정답수(한글)], [정답수(안전한 생활)], [정답수(영어)], [정답수(국어)], [정답수(수학)], [정답수(과학)], [정답수(봄여름가을겨울)], [정답수(사회)], [정답수(독서 논술)], [정답수(매일 보는 동화)], [오답노트 담긴 강의 수(한글)], [오답노트 담긴 강의 수(안전한 생활)], [오답노트 담긴 강의 수(영어)], [오답노트 담긴 강의 수(국어)], [오답노트 담긴 강의 수(수학)], [오답노트 담긴 강의 수(과학)], [오답노트 담긴 강의 수(봄여름가을겨울)], [오답노트 담긴 강의 수(사회)], [오답노트 담긴 강의 수(독서 논술)], [오답노트 담긴 강의 수(매일 보는 동화)], [학습한 오답노트 강의 수(한글)], [학습한 오답노트 강의 수(안전한 생활)], [학습한 오답노트 강의 수(영어)], [학습한 오답노트 강의 수(국어)], [학습한 오답노트 강의 수(수학)], [학습한 오답노트 강의 수(과학)], [학습한 오답노트 강의 수(봄여름가을겨울)], [학습한 오답노트 강의 수(사회)], [학습한 오답노트 강의 수(독서 논술)], [학습한 오답노트 강의 수(매일 보는 동화)], [점수(한글)], [점수(안전한 생활)], [점수(영어)], [점수(국어)], [점수(수학)], [점수(과학)], [점수(봄여름가을겨울)], [점수(사회)], [점수(독서 논술)], [점수(매일 보는 동화)] FROM [DB].[dbo].[TABLE]\""
   ]
  },
  {
   "cell_type": "markdown",
   "metadata": {},
   "source": [
    "### 4.2 read to data"
   ]
  },
  {
   "cell_type": "code",
   "execution_count": 23,
   "metadata": {},
   "outputs": [],
   "source": [
    "# read to data\n",
    "v_raw_m = pd.DataFrame(list(cursor.fetchall()), columns=col_names_list)\n",
    "\n",
    "# change to string type: 'USERID' UUID -> string\n",
    "v_raw_m['USERID'] = v_raw_m['USERID'].astype(str).str.upper().values"
   ]
  },
  {
   "cell_type": "markdown",
   "metadata": {},
   "source": [
    "### 4.3 preprocessing"
   ]
  },
  {
   "cell_type": "code",
   "execution_count": 24,
   "metadata": {},
   "outputs": [],
   "source": [
    "# jupyter notebook 상단에서 설정한 start_date & end date를 V_RAW_M에서 where 조건으로 걸기가 제한적\n",
    "# LIKE문 써도 query상에서 끌어오지 못함: maybe... running time error?\n",
    "# 따라서, jupyter notebook에서 정제를 해야하며,\n",
    "# 이에 따라 2019년 이력으로 한정하기 위해 2019년 list 생성\n",
    "period_2019 = []\n",
    "\n",
    "for i in range(1, 13):\n",
    "    if len(str(i))==1:\n",
    "        period_2019.append('20190{}'.format(i))\n",
    "    else:\n",
    "        period_2019.append('2019{}'.format(i))"
   ]
  },
  {
   "cell_type": "code",
   "execution_count": 25,
   "metadata": {},
   "outputs": [],
   "source": [
    "# 2019년 이력으로 slicing\n",
    "v_raw_m = v_raw_m[v_raw_m['집계월'].isin(period_2019)]"
   ]
  },
  {
   "cell_type": "markdown",
   "metadata": {},
   "source": [
    "#### 4.3.1 XX_정답율 계산 및 추출\n",
    "- 정답율은 다음과 같이 정의됨\n",
    "- 정답수(XX) / 풀이문항수(XX)"
   ]
  },
  {
   "cell_type": "code",
   "execution_count": 26,
   "metadata": {
    "scrolled": true
   },
   "outputs": [
    {
     "data": {
      "text/html": [
       "<div>\n",
       "<style scoped>\n",
       "    .dataframe tbody tr th:only-of-type {\n",
       "        vertical-align: middle;\n",
       "    }\n",
       "\n",
       "    .dataframe tbody tr th {\n",
       "        vertical-align: top;\n",
       "    }\n",
       "\n",
       "    .dataframe thead th {\n",
       "        text-align: right;\n",
       "    }\n",
       "</style>\n",
       "<table border=\"1\" class=\"dataframe\">\n",
       "  <thead>\n",
       "    <tr style=\"text-align: right;\">\n",
       "      <th></th>\n",
       "      <th>USERID</th>\n",
       "      <th>풀이문항수(한글)</th>\n",
       "      <th>풀이문항수(영어)</th>\n",
       "      <th>풀이문항수(국어)</th>\n",
       "      <th>풀이문항수(수학)</th>\n",
       "      <th>풀이문항수(과학)</th>\n",
       "      <th>풀이문항수(봄여름가을겨울)</th>\n",
       "      <th>풀이문항수(사회)</th>\n",
       "      <th>풀이문항수(독서 논술)</th>\n",
       "      <th>정답수(한글)</th>\n",
       "      <th>정답수(영어)</th>\n",
       "      <th>정답수(국어)</th>\n",
       "      <th>정답수(수학)</th>\n",
       "      <th>정답수(과학)</th>\n",
       "      <th>정답수(봄여름가을겨울)</th>\n",
       "      <th>정답수(사회)</th>\n",
       "      <th>정답수(독서 논술)</th>\n",
       "    </tr>\n",
       "  </thead>\n",
       "  <tbody>\n",
       "    <tr>\n",
       "      <th>0</th>\n",
       "      <td>0000B68D-EBC2-40FA-985D-A3454DDEFFA7</td>\n",
       "      <td>0.0</td>\n",
       "      <td>0.0</td>\n",
       "      <td>121.0</td>\n",
       "      <td>113.0</td>\n",
       "      <td>0.0</td>\n",
       "      <td>105.0</td>\n",
       "      <td>0.0</td>\n",
       "      <td>0.0</td>\n",
       "      <td>0.0</td>\n",
       "      <td>0.0</td>\n",
       "      <td>83.0</td>\n",
       "      <td>71.0</td>\n",
       "      <td>0.0</td>\n",
       "      <td>69.0</td>\n",
       "      <td>0.0</td>\n",
       "      <td>0.0</td>\n",
       "    </tr>\n",
       "    <tr>\n",
       "      <th>1</th>\n",
       "      <td>0001F20D-B1C7-4101-95A9-B82763380CBE</td>\n",
       "      <td>0.0</td>\n",
       "      <td>0.0</td>\n",
       "      <td>477.0</td>\n",
       "      <td>475.0</td>\n",
       "      <td>0.0</td>\n",
       "      <td>430.0</td>\n",
       "      <td>0.0</td>\n",
       "      <td>0.0</td>\n",
       "      <td>0.0</td>\n",
       "      <td>0.0</td>\n",
       "      <td>351.0</td>\n",
       "      <td>348.0</td>\n",
       "      <td>0.0</td>\n",
       "      <td>341.0</td>\n",
       "      <td>0.0</td>\n",
       "      <td>0.0</td>\n",
       "    </tr>\n",
       "    <tr>\n",
       "      <th>2</th>\n",
       "      <td>000669AC-C324-43BA-973A-71E31FBA4AEE</td>\n",
       "      <td>0.0</td>\n",
       "      <td>0.0</td>\n",
       "      <td>405.0</td>\n",
       "      <td>487.0</td>\n",
       "      <td>0.0</td>\n",
       "      <td>245.0</td>\n",
       "      <td>5.0</td>\n",
       "      <td>0.0</td>\n",
       "      <td>0.0</td>\n",
       "      <td>0.0</td>\n",
       "      <td>217.0</td>\n",
       "      <td>227.0</td>\n",
       "      <td>0.0</td>\n",
       "      <td>162.0</td>\n",
       "      <td>0.0</td>\n",
       "      <td>0.0</td>\n",
       "    </tr>\n",
       "    <tr>\n",
       "      <th>3</th>\n",
       "      <td>000864C3-209F-48C5-9FE8-FBB78F0A34F2</td>\n",
       "      <td>0.0</td>\n",
       "      <td>0.0</td>\n",
       "      <td>0.0</td>\n",
       "      <td>5.0</td>\n",
       "      <td>0.0</td>\n",
       "      <td>0.0</td>\n",
       "      <td>0.0</td>\n",
       "      <td>0.0</td>\n",
       "      <td>0.0</td>\n",
       "      <td>0.0</td>\n",
       "      <td>0.0</td>\n",
       "      <td>4.0</td>\n",
       "      <td>0.0</td>\n",
       "      <td>0.0</td>\n",
       "      <td>0.0</td>\n",
       "      <td>0.0</td>\n",
       "    </tr>\n",
       "    <tr>\n",
       "      <th>4</th>\n",
       "      <td>00088792-7DDF-4D6B-B2BC-FA2F9BCCC211</td>\n",
       "      <td>0.0</td>\n",
       "      <td>0.0</td>\n",
       "      <td>25.0</td>\n",
       "      <td>0.0</td>\n",
       "      <td>0.0</td>\n",
       "      <td>5.0</td>\n",
       "      <td>0.0</td>\n",
       "      <td>0.0</td>\n",
       "      <td>0.0</td>\n",
       "      <td>0.0</td>\n",
       "      <td>20.0</td>\n",
       "      <td>0.0</td>\n",
       "      <td>0.0</td>\n",
       "      <td>2.0</td>\n",
       "      <td>0.0</td>\n",
       "      <td>0.0</td>\n",
       "    </tr>\n",
       "    <tr>\n",
       "      <th>...</th>\n",
       "      <td>...</td>\n",
       "      <td>...</td>\n",
       "      <td>...</td>\n",
       "      <td>...</td>\n",
       "      <td>...</td>\n",
       "      <td>...</td>\n",
       "      <td>...</td>\n",
       "      <td>...</td>\n",
       "      <td>...</td>\n",
       "      <td>...</td>\n",
       "      <td>...</td>\n",
       "      <td>...</td>\n",
       "      <td>...</td>\n",
       "      <td>...</td>\n",
       "      <td>...</td>\n",
       "      <td>...</td>\n",
       "      <td>...</td>\n",
       "    </tr>\n",
       "    <tr>\n",
       "      <th>74720</th>\n",
       "      <td>FFFCC9D6-1F60-47DE-8E91-45B094D48624</td>\n",
       "      <td>0.0</td>\n",
       "      <td>5.0</td>\n",
       "      <td>132.0</td>\n",
       "      <td>79.0</td>\n",
       "      <td>58.0</td>\n",
       "      <td>0.0</td>\n",
       "      <td>50.0</td>\n",
       "      <td>0.0</td>\n",
       "      <td>0.0</td>\n",
       "      <td>3.0</td>\n",
       "      <td>103.0</td>\n",
       "      <td>60.0</td>\n",
       "      <td>38.0</td>\n",
       "      <td>0.0</td>\n",
       "      <td>36.0</td>\n",
       "      <td>0.0</td>\n",
       "    </tr>\n",
       "    <tr>\n",
       "      <th>74721</th>\n",
       "      <td>FFFD15A5-6778-429A-9115-78A6012CCB6F</td>\n",
       "      <td>0.0</td>\n",
       "      <td>0.0</td>\n",
       "      <td>77.0</td>\n",
       "      <td>84.0</td>\n",
       "      <td>5.0</td>\n",
       "      <td>50.0</td>\n",
       "      <td>5.0</td>\n",
       "      <td>0.0</td>\n",
       "      <td>0.0</td>\n",
       "      <td>0.0</td>\n",
       "      <td>64.0</td>\n",
       "      <td>71.0</td>\n",
       "      <td>2.0</td>\n",
       "      <td>41.0</td>\n",
       "      <td>3.0</td>\n",
       "      <td>0.0</td>\n",
       "    </tr>\n",
       "    <tr>\n",
       "      <th>74722</th>\n",
       "      <td>FFFD7651-C51D-4912-8AA9-9E93A75D8D2D</td>\n",
       "      <td>0.0</td>\n",
       "      <td>820.0</td>\n",
       "      <td>570.0</td>\n",
       "      <td>499.0</td>\n",
       "      <td>319.0</td>\n",
       "      <td>5.0</td>\n",
       "      <td>251.0</td>\n",
       "      <td>16.0</td>\n",
       "      <td>0.0</td>\n",
       "      <td>650.0</td>\n",
       "      <td>516.0</td>\n",
       "      <td>369.0</td>\n",
       "      <td>252.0</td>\n",
       "      <td>5.0</td>\n",
       "      <td>196.0</td>\n",
       "      <td>12.0</td>\n",
       "    </tr>\n",
       "    <tr>\n",
       "      <th>74723</th>\n",
       "      <td>FFFDB3C4-D666-4516-92F7-C6F5BD9721D4</td>\n",
       "      <td>0.0</td>\n",
       "      <td>545.0</td>\n",
       "      <td>964.0</td>\n",
       "      <td>1005.0</td>\n",
       "      <td>332.0</td>\n",
       "      <td>30.0</td>\n",
       "      <td>352.0</td>\n",
       "      <td>0.0</td>\n",
       "      <td>0.0</td>\n",
       "      <td>292.0</td>\n",
       "      <td>603.0</td>\n",
       "      <td>671.0</td>\n",
       "      <td>180.0</td>\n",
       "      <td>24.0</td>\n",
       "      <td>200.0</td>\n",
       "      <td>0.0</td>\n",
       "    </tr>\n",
       "    <tr>\n",
       "      <th>74724</th>\n",
       "      <td>FFFE6EFD-14E1-46A1-B2AF-FB5E2CB3DE2E</td>\n",
       "      <td>0.0</td>\n",
       "      <td>60.0</td>\n",
       "      <td>493.0</td>\n",
       "      <td>526.0</td>\n",
       "      <td>0.0</td>\n",
       "      <td>425.0</td>\n",
       "      <td>0.0</td>\n",
       "      <td>0.0</td>\n",
       "      <td>0.0</td>\n",
       "      <td>26.0</td>\n",
       "      <td>423.0</td>\n",
       "      <td>427.0</td>\n",
       "      <td>0.0</td>\n",
       "      <td>359.0</td>\n",
       "      <td>0.0</td>\n",
       "      <td>0.0</td>\n",
       "    </tr>\n",
       "  </tbody>\n",
       "</table>\n",
       "<p>74725 rows × 17 columns</p>\n",
       "</div>"
      ],
      "text/plain": [
       "                                     USERID  풀이문항수(한글)  풀이문항수(영어)  풀이문항수(국어)  \\\n",
       "0      0000B68D-EBC2-40FA-985D-A3454DDEFFA7        0.0        0.0      121.0   \n",
       "1      0001F20D-B1C7-4101-95A9-B82763380CBE        0.0        0.0      477.0   \n",
       "2      000669AC-C324-43BA-973A-71E31FBA4AEE        0.0        0.0      405.0   \n",
       "3      000864C3-209F-48C5-9FE8-FBB78F0A34F2        0.0        0.0        0.0   \n",
       "4      00088792-7DDF-4D6B-B2BC-FA2F9BCCC211        0.0        0.0       25.0   \n",
       "...                                     ...        ...        ...        ...   \n",
       "74720  FFFCC9D6-1F60-47DE-8E91-45B094D48624        0.0        5.0      132.0   \n",
       "74721  FFFD15A5-6778-429A-9115-78A6012CCB6F        0.0        0.0       77.0   \n",
       "74722  FFFD7651-C51D-4912-8AA9-9E93A75D8D2D        0.0      820.0      570.0   \n",
       "74723  FFFDB3C4-D666-4516-92F7-C6F5BD9721D4        0.0      545.0      964.0   \n",
       "74724  FFFE6EFD-14E1-46A1-B2AF-FB5E2CB3DE2E        0.0       60.0      493.0   \n",
       "\n",
       "       풀이문항수(수학)  풀이문항수(과학)  풀이문항수(봄여름가을겨울)  풀이문항수(사회)  풀이문항수(독서 논술)  정답수(한글)  \\\n",
       "0          113.0        0.0           105.0        0.0           0.0      0.0   \n",
       "1          475.0        0.0           430.0        0.0           0.0      0.0   \n",
       "2          487.0        0.0           245.0        5.0           0.0      0.0   \n",
       "3            5.0        0.0             0.0        0.0           0.0      0.0   \n",
       "4            0.0        0.0             5.0        0.0           0.0      0.0   \n",
       "...          ...        ...             ...        ...           ...      ...   \n",
       "74720       79.0       58.0             0.0       50.0           0.0      0.0   \n",
       "74721       84.0        5.0            50.0        5.0           0.0      0.0   \n",
       "74722      499.0      319.0             5.0      251.0          16.0      0.0   \n",
       "74723     1005.0      332.0            30.0      352.0           0.0      0.0   \n",
       "74724      526.0        0.0           425.0        0.0           0.0      0.0   \n",
       "\n",
       "       정답수(영어)  정답수(국어)  정답수(수학)  정답수(과학)  정답수(봄여름가을겨울)  정답수(사회)  정답수(독서 논술)  \n",
       "0          0.0     83.0     71.0      0.0          69.0      0.0         0.0  \n",
       "1          0.0    351.0    348.0      0.0         341.0      0.0         0.0  \n",
       "2          0.0    217.0    227.0      0.0         162.0      0.0         0.0  \n",
       "3          0.0      0.0      4.0      0.0           0.0      0.0         0.0  \n",
       "4          0.0     20.0      0.0      0.0           2.0      0.0         0.0  \n",
       "...        ...      ...      ...      ...           ...      ...         ...  \n",
       "74720      3.0    103.0     60.0     38.0           0.0     36.0         0.0  \n",
       "74721      0.0     64.0     71.0      2.0          41.0      3.0         0.0  \n",
       "74722    650.0    516.0    369.0    252.0           5.0    196.0        12.0  \n",
       "74723    292.0    603.0    671.0    180.0          24.0    200.0         0.0  \n",
       "74724     26.0    423.0    427.0      0.0         359.0      0.0         0.0  \n",
       "\n",
       "[74725 rows x 17 columns]"
      ]
     },
     "execution_count": 26,
     "metadata": {},
     "output_type": "execute_result"
    }
   ],
   "source": [
    "# 파생변수(XX_정답율) 생성에 필요한 변수만 추출\n",
    "tmp_v_raw_m = v_raw_m[['USERID',\n",
    "                       '풀이문항수(한글)', '풀이문항수(영어)', '풀이문항수(국어)', '풀이문항수(수학)', '풀이문항수(과학)', '풀이문항수(봄여름가을겨울)', '풀이문항수(사회)', '풀이문항수(독서 논술)',\n",
    "                       '정답수(한글)', '정답수(영어)', '정답수(국어)', '정답수(수학)', '정답수(과학)', '정답수(봄여름가을겨울)', '정답수(사회)', '정답수(독서 논술)']].groupby('USERID').sum().reset_index(level=['USERID'])\n",
    "\n",
    "# memb_info에 존재하는 user로만 slicing\n",
    "tmp_v_raw_m = tmp_v_raw_m[tmp_v_raw_m['USERID'].isin(memb_info['UserId'].unique())].reset_index(drop=True)\n",
    "\n",
    "# sorting by userid\n",
    "tmp_v_raw_m.sort_values(by='USERID').reset_index(drop=True)\n",
    "tmp_v_raw_m"
   ]
  },
  {
   "cell_type": "code",
   "execution_count": 27,
   "metadata": {},
   "outputs": [
    {
     "data": {
      "text/plain": [
       "['한글', '영어', '국어', '수학', '봄여름가을겨울', '매일 보는 동화', '안전한 생활', '독서 논술', '과학', '사회']"
      ]
     },
     "execution_count": 27,
     "metadata": {},
     "output_type": "execute_result"
    }
   ],
   "source": [
    "sub_list = ['한글', '영어', '국어', '수학', '봄여름가을겨울', '매일 보는 동화', '안전한 생활', '독서 논술', '과학', '사회']\n",
    "sub_list"
   ]
  },
  {
   "cell_type": "code",
   "execution_count": 28,
   "metadata": {
    "scrolled": true
   },
   "outputs": [
    {
     "name": "stdout",
     "output_type": "stream",
     "text": [
      "###### [KeyError] where the occurred: 매일 보는 동화\n",
      "###### [KeyError] where the occurred: 안전한 생활\n"
     ]
    }
   ],
   "source": [
    "for subject in sub_list:\n",
    "    try:\n",
    "        memb_info['{}_정답율'.format(subject)] = round(tmp_v_raw_m['정답수({})'.format(subject)] / tmp_v_raw_m['풀이문항수({})'.format(subject)], 2) * 100\n",
    "        \n",
    "    # group by 시 해당 subject(column)의 row가 모두 null이면 해당 column은 group by되지 않기 때문에\n",
    "    # keyError를 발생시킴\n",
    "    except KeyError:\n",
    "        print(\"###### [KeyError] where the occurred: {}\".format(subject))"
   ]
  },
  {
   "cell_type": "markdown",
   "metadata": {},
   "source": [
    "#### 4.3.2 XX_오답_수행율 계산 및 추출\n",
    "- 오답_수행율은 다음과 같이 정의됨\n",
    "- 학습한 오답노트 강의 수(XX) / 오답노트 담긴 강의 수(XX)"
   ]
  },
  {
   "cell_type": "code",
   "execution_count": 29,
   "metadata": {
    "scrolled": true
   },
   "outputs": [
    {
     "data": {
      "text/html": [
       "<div>\n",
       "<style scoped>\n",
       "    .dataframe tbody tr th:only-of-type {\n",
       "        vertical-align: middle;\n",
       "    }\n",
       "\n",
       "    .dataframe tbody tr th {\n",
       "        vertical-align: top;\n",
       "    }\n",
       "\n",
       "    .dataframe thead th {\n",
       "        text-align: right;\n",
       "    }\n",
       "</style>\n",
       "<table border=\"1\" class=\"dataframe\">\n",
       "  <thead>\n",
       "    <tr style=\"text-align: right;\">\n",
       "      <th></th>\n",
       "      <th>USERID</th>\n",
       "      <th>오답노트 담긴 강의 수(한글)</th>\n",
       "      <th>오답노트 담긴 강의 수(영어)</th>\n",
       "      <th>오답노트 담긴 강의 수(국어)</th>\n",
       "      <th>오답노트 담긴 강의 수(수학)</th>\n",
       "      <th>오답노트 담긴 강의 수(과학)</th>\n",
       "      <th>오답노트 담긴 강의 수(봄여름가을겨울)</th>\n",
       "      <th>오답노트 담긴 강의 수(사회)</th>\n",
       "      <th>오답노트 담긴 강의 수(독서 논술)</th>\n",
       "      <th>학습한 오답노트 강의 수(한글)</th>\n",
       "      <th>학습한 오답노트 강의 수(영어)</th>\n",
       "      <th>학습한 오답노트 강의 수(국어)</th>\n",
       "      <th>학습한 오답노트 강의 수(수학)</th>\n",
       "      <th>학습한 오답노트 강의 수(과학)</th>\n",
       "      <th>학습한 오답노트 강의 수(봄여름가을겨울)</th>\n",
       "      <th>학습한 오답노트 강의 수(사회)</th>\n",
       "      <th>학습한 오답노트 강의 수(독서 논술)</th>\n",
       "    </tr>\n",
       "  </thead>\n",
       "  <tbody>\n",
       "    <tr>\n",
       "      <th>0</th>\n",
       "      <td>0000B68D-EBC2-40FA-985D-A3454DDEFFA7</td>\n",
       "      <td>0.0</td>\n",
       "      <td>0.0</td>\n",
       "      <td>47.0</td>\n",
       "      <td>53.0</td>\n",
       "      <td>0.0</td>\n",
       "      <td>47.0</td>\n",
       "      <td>0.0</td>\n",
       "      <td>0.0</td>\n",
       "      <td>0.0</td>\n",
       "      <td>0.0</td>\n",
       "      <td>0.0</td>\n",
       "      <td>3.0</td>\n",
       "      <td>0.0</td>\n",
       "      <td>0.0</td>\n",
       "      <td>0.0</td>\n",
       "      <td>0.0</td>\n",
       "    </tr>\n",
       "    <tr>\n",
       "      <th>1</th>\n",
       "      <td>0001F20D-B1C7-4101-95A9-B82763380CBE</td>\n",
       "      <td>0.0</td>\n",
       "      <td>0.0</td>\n",
       "      <td>120.0</td>\n",
       "      <td>129.0</td>\n",
       "      <td>0.0</td>\n",
       "      <td>86.0</td>\n",
       "      <td>0.0</td>\n",
       "      <td>0.0</td>\n",
       "      <td>0.0</td>\n",
       "      <td>0.0</td>\n",
       "      <td>45.0</td>\n",
       "      <td>58.0</td>\n",
       "      <td>0.0</td>\n",
       "      <td>27.0</td>\n",
       "      <td>0.0</td>\n",
       "      <td>0.0</td>\n",
       "    </tr>\n",
       "    <tr>\n",
       "      <th>2</th>\n",
       "      <td>000669AC-C324-43BA-973A-71E31FBA4AEE</td>\n",
       "      <td>0.0</td>\n",
       "      <td>0.0</td>\n",
       "      <td>200.0</td>\n",
       "      <td>270.0</td>\n",
       "      <td>0.0</td>\n",
       "      <td>90.0</td>\n",
       "      <td>5.0</td>\n",
       "      <td>0.0</td>\n",
       "      <td>0.0</td>\n",
       "      <td>0.0</td>\n",
       "      <td>145.0</td>\n",
       "      <td>140.0</td>\n",
       "      <td>0.0</td>\n",
       "      <td>45.0</td>\n",
       "      <td>0.0</td>\n",
       "      <td>0.0</td>\n",
       "    </tr>\n",
       "    <tr>\n",
       "      <th>3</th>\n",
       "      <td>000864C3-209F-48C5-9FE8-FBB78F0A34F2</td>\n",
       "      <td>0.0</td>\n",
       "      <td>0.0</td>\n",
       "      <td>0.0</td>\n",
       "      <td>1.0</td>\n",
       "      <td>0.0</td>\n",
       "      <td>0.0</td>\n",
       "      <td>0.0</td>\n",
       "      <td>0.0</td>\n",
       "      <td>0.0</td>\n",
       "      <td>0.0</td>\n",
       "      <td>0.0</td>\n",
       "      <td>0.0</td>\n",
       "      <td>0.0</td>\n",
       "      <td>0.0</td>\n",
       "      <td>0.0</td>\n",
       "      <td>0.0</td>\n",
       "    </tr>\n",
       "    <tr>\n",
       "      <th>4</th>\n",
       "      <td>00088792-7DDF-4D6B-B2BC-FA2F9BCCC211</td>\n",
       "      <td>0.0</td>\n",
       "      <td>0.0</td>\n",
       "      <td>6.0</td>\n",
       "      <td>0.0</td>\n",
       "      <td>0.0</td>\n",
       "      <td>4.0</td>\n",
       "      <td>0.0</td>\n",
       "      <td>0.0</td>\n",
       "      <td>0.0</td>\n",
       "      <td>0.0</td>\n",
       "      <td>0.0</td>\n",
       "      <td>0.0</td>\n",
       "      <td>0.0</td>\n",
       "      <td>0.0</td>\n",
       "      <td>0.0</td>\n",
       "      <td>0.0</td>\n",
       "    </tr>\n",
       "    <tr>\n",
       "      <th>...</th>\n",
       "      <td>...</td>\n",
       "      <td>...</td>\n",
       "      <td>...</td>\n",
       "      <td>...</td>\n",
       "      <td>...</td>\n",
       "      <td>...</td>\n",
       "      <td>...</td>\n",
       "      <td>...</td>\n",
       "      <td>...</td>\n",
       "      <td>...</td>\n",
       "      <td>...</td>\n",
       "      <td>...</td>\n",
       "      <td>...</td>\n",
       "      <td>...</td>\n",
       "      <td>...</td>\n",
       "      <td>...</td>\n",
       "      <td>...</td>\n",
       "    </tr>\n",
       "    <tr>\n",
       "      <th>74720</th>\n",
       "      <td>FFFCC9D6-1F60-47DE-8E91-45B094D48624</td>\n",
       "      <td>0.0</td>\n",
       "      <td>2.0</td>\n",
       "      <td>37.0</td>\n",
       "      <td>24.0</td>\n",
       "      <td>22.0</td>\n",
       "      <td>0.0</td>\n",
       "      <td>18.0</td>\n",
       "      <td>0.0</td>\n",
       "      <td>0.0</td>\n",
       "      <td>0.0</td>\n",
       "      <td>9.0</td>\n",
       "      <td>10.0</td>\n",
       "      <td>3.0</td>\n",
       "      <td>0.0</td>\n",
       "      <td>1.0</td>\n",
       "      <td>0.0</td>\n",
       "    </tr>\n",
       "    <tr>\n",
       "      <th>74721</th>\n",
       "      <td>FFFD15A5-6778-429A-9115-78A6012CCB6F</td>\n",
       "      <td>0.0</td>\n",
       "      <td>0.0</td>\n",
       "      <td>17.0</td>\n",
       "      <td>16.0</td>\n",
       "      <td>3.0</td>\n",
       "      <td>11.0</td>\n",
       "      <td>2.0</td>\n",
       "      <td>0.0</td>\n",
       "      <td>0.0</td>\n",
       "      <td>0.0</td>\n",
       "      <td>16.0</td>\n",
       "      <td>15.0</td>\n",
       "      <td>3.0</td>\n",
       "      <td>11.0</td>\n",
       "      <td>2.0</td>\n",
       "      <td>0.0</td>\n",
       "    </tr>\n",
       "    <tr>\n",
       "      <th>74722</th>\n",
       "      <td>FFFD7651-C51D-4912-8AA9-9E93A75D8D2D</td>\n",
       "      <td>0.0</td>\n",
       "      <td>11.0</td>\n",
       "      <td>54.0</td>\n",
       "      <td>133.0</td>\n",
       "      <td>69.0</td>\n",
       "      <td>0.0</td>\n",
       "      <td>56.0</td>\n",
       "      <td>0.0</td>\n",
       "      <td>0.0</td>\n",
       "      <td>1.0</td>\n",
       "      <td>12.0</td>\n",
       "      <td>24.0</td>\n",
       "      <td>36.0</td>\n",
       "      <td>0.0</td>\n",
       "      <td>10.0</td>\n",
       "      <td>0.0</td>\n",
       "    </tr>\n",
       "    <tr>\n",
       "      <th>74723</th>\n",
       "      <td>FFFDB3C4-D666-4516-92F7-C6F5BD9721D4</td>\n",
       "      <td>0.0</td>\n",
       "      <td>177.0</td>\n",
       "      <td>381.0</td>\n",
       "      <td>410.0</td>\n",
       "      <td>149.0</td>\n",
       "      <td>8.0</td>\n",
       "      <td>171.0</td>\n",
       "      <td>0.0</td>\n",
       "      <td>0.0</td>\n",
       "      <td>110.0</td>\n",
       "      <td>248.0</td>\n",
       "      <td>257.0</td>\n",
       "      <td>110.0</td>\n",
       "      <td>0.0</td>\n",
       "      <td>119.0</td>\n",
       "      <td>0.0</td>\n",
       "    </tr>\n",
       "    <tr>\n",
       "      <th>74724</th>\n",
       "      <td>FFFE6EFD-14E1-46A1-B2AF-FB5E2CB3DE2E</td>\n",
       "      <td>0.0</td>\n",
       "      <td>2.0</td>\n",
       "      <td>82.0</td>\n",
       "      <td>113.0</td>\n",
       "      <td>0.0</td>\n",
       "      <td>66.0</td>\n",
       "      <td>0.0</td>\n",
       "      <td>0.0</td>\n",
       "      <td>0.0</td>\n",
       "      <td>0.0</td>\n",
       "      <td>3.0</td>\n",
       "      <td>11.0</td>\n",
       "      <td>0.0</td>\n",
       "      <td>5.0</td>\n",
       "      <td>0.0</td>\n",
       "      <td>0.0</td>\n",
       "    </tr>\n",
       "  </tbody>\n",
       "</table>\n",
       "<p>74725 rows × 17 columns</p>\n",
       "</div>"
      ],
      "text/plain": [
       "                                     USERID  오답노트 담긴 강의 수(한글)  \\\n",
       "0      0000B68D-EBC2-40FA-985D-A3454DDEFFA7               0.0   \n",
       "1      0001F20D-B1C7-4101-95A9-B82763380CBE               0.0   \n",
       "2      000669AC-C324-43BA-973A-71E31FBA4AEE               0.0   \n",
       "3      000864C3-209F-48C5-9FE8-FBB78F0A34F2               0.0   \n",
       "4      00088792-7DDF-4D6B-B2BC-FA2F9BCCC211               0.0   \n",
       "...                                     ...               ...   \n",
       "74720  FFFCC9D6-1F60-47DE-8E91-45B094D48624               0.0   \n",
       "74721  FFFD15A5-6778-429A-9115-78A6012CCB6F               0.0   \n",
       "74722  FFFD7651-C51D-4912-8AA9-9E93A75D8D2D               0.0   \n",
       "74723  FFFDB3C4-D666-4516-92F7-C6F5BD9721D4               0.0   \n",
       "74724  FFFE6EFD-14E1-46A1-B2AF-FB5E2CB3DE2E               0.0   \n",
       "\n",
       "       오답노트 담긴 강의 수(영어)  오답노트 담긴 강의 수(국어)  오답노트 담긴 강의 수(수학)  오답노트 담긴 강의 수(과학)  \\\n",
       "0                   0.0              47.0              53.0               0.0   \n",
       "1                   0.0             120.0             129.0               0.0   \n",
       "2                   0.0             200.0             270.0               0.0   \n",
       "3                   0.0               0.0               1.0               0.0   \n",
       "4                   0.0               6.0               0.0               0.0   \n",
       "...                 ...               ...               ...               ...   \n",
       "74720               2.0              37.0              24.0              22.0   \n",
       "74721               0.0              17.0              16.0               3.0   \n",
       "74722              11.0              54.0             133.0              69.0   \n",
       "74723             177.0             381.0             410.0             149.0   \n",
       "74724               2.0              82.0             113.0               0.0   \n",
       "\n",
       "       오답노트 담긴 강의 수(봄여름가을겨울)  오답노트 담긴 강의 수(사회)  오답노트 담긴 강의 수(독서 논술)  \\\n",
       "0                       47.0               0.0                  0.0   \n",
       "1                       86.0               0.0                  0.0   \n",
       "2                       90.0               5.0                  0.0   \n",
       "3                        0.0               0.0                  0.0   \n",
       "4                        4.0               0.0                  0.0   \n",
       "...                      ...               ...                  ...   \n",
       "74720                    0.0              18.0                  0.0   \n",
       "74721                   11.0               2.0                  0.0   \n",
       "74722                    0.0              56.0                  0.0   \n",
       "74723                    8.0             171.0                  0.0   \n",
       "74724                   66.0               0.0                  0.0   \n",
       "\n",
       "       학습한 오답노트 강의 수(한글)  학습한 오답노트 강의 수(영어)  학습한 오답노트 강의 수(국어)  \\\n",
       "0                    0.0                0.0                0.0   \n",
       "1                    0.0                0.0               45.0   \n",
       "2                    0.0                0.0              145.0   \n",
       "3                    0.0                0.0                0.0   \n",
       "4                    0.0                0.0                0.0   \n",
       "...                  ...                ...                ...   \n",
       "74720                0.0                0.0                9.0   \n",
       "74721                0.0                0.0               16.0   \n",
       "74722                0.0                1.0               12.0   \n",
       "74723                0.0              110.0              248.0   \n",
       "74724                0.0                0.0                3.0   \n",
       "\n",
       "       학습한 오답노트 강의 수(수학)  학습한 오답노트 강의 수(과학)  학습한 오답노트 강의 수(봄여름가을겨울)  \\\n",
       "0                    3.0                0.0                     0.0   \n",
       "1                   58.0                0.0                    27.0   \n",
       "2                  140.0                0.0                    45.0   \n",
       "3                    0.0                0.0                     0.0   \n",
       "4                    0.0                0.0                     0.0   \n",
       "...                  ...                ...                     ...   \n",
       "74720               10.0                3.0                     0.0   \n",
       "74721               15.0                3.0                    11.0   \n",
       "74722               24.0               36.0                     0.0   \n",
       "74723              257.0              110.0                     0.0   \n",
       "74724               11.0                0.0                     5.0   \n",
       "\n",
       "       학습한 오답노트 강의 수(사회)  학습한 오답노트 강의 수(독서 논술)  \n",
       "0                    0.0                   0.0  \n",
       "1                    0.0                   0.0  \n",
       "2                    0.0                   0.0  \n",
       "3                    0.0                   0.0  \n",
       "4                    0.0                   0.0  \n",
       "...                  ...                   ...  \n",
       "74720                1.0                   0.0  \n",
       "74721                2.0                   0.0  \n",
       "74722               10.0                   0.0  \n",
       "74723              119.0                   0.0  \n",
       "74724                0.0                   0.0  \n",
       "\n",
       "[74725 rows x 17 columns]"
      ]
     },
     "execution_count": 29,
     "metadata": {},
     "output_type": "execute_result"
    }
   ],
   "source": [
    "# 파생변수(XX_오답_수행율) 생성에 필요한 변수만 추출\n",
    "tmp_v_raw_m = v_raw_m[['USERID',\n",
    "                       '오답노트 담긴 강의 수(한글)', '오답노트 담긴 강의 수(영어)', '오답노트 담긴 강의 수(국어)', '오답노트 담긴 강의 수(수학)', '오답노트 담긴 강의 수(과학)', '오답노트 담긴 강의 수(봄여름가을겨울)', '오답노트 담긴 강의 수(사회)', '오답노트 담긴 강의 수(독서 논술)',\n",
    "                       '학습한 오답노트 강의 수(한글)', '학습한 오답노트 강의 수(영어)', '학습한 오답노트 강의 수(국어)', '학습한 오답노트 강의 수(수학)', '학습한 오답노트 강의 수(과학)', '학습한 오답노트 강의 수(봄여름가을겨울)', '학습한 오답노트 강의 수(사회)', '학습한 오답노트 강의 수(독서 논술)']].groupby('USERID').sum().reset_index(level=['USERID'])\n",
    "\n",
    "# memb_info에 존재하는 user로만 slicing\n",
    "tmp_v_raw_m = tmp_v_raw_m[tmp_v_raw_m['USERID'].isin(memb_info['UserId'].unique())].reset_index(drop=True)\n",
    "\n",
    "# sorting by userid\n",
    "tmp_v_raw_m.sort_values(by='USERID').reset_index(drop=True)\n",
    "tmp_v_raw_m"
   ]
  },
  {
   "cell_type": "code",
   "execution_count": 30,
   "metadata": {},
   "outputs": [
    {
     "name": "stdout",
     "output_type": "stream",
     "text": [
      "###### [KeyError] where the occurred: 매일 보는 동화\n",
      "###### [KeyError] where the occurred: 안전한 생활\n"
     ]
    }
   ],
   "source": [
    "for subject in sub_list:\n",
    "    try:\n",
    "        memb_info['{}_오답_수행율'.format(subject)] = round(tmp_v_raw_m['학습한 오답노트 강의 수({})'.format(subject)] / tmp_v_raw_m['오답노트 담긴 강의 수({})'.format(subject)], 2) * 100\n",
    "        \n",
    "    # group by 시 해당 subject(column)의 row가 모두 null이면 해당 column은 group by되지 않기 때문에\n",
    "    # keyError를 발생시킴\n",
    "    except KeyError:\n",
    "        print(\"###### [KeyError] where the occurred: {}\".format(subject))"
   ]
  },
  {
   "cell_type": "markdown",
   "metadata": {},
   "source": [
    "#### 4.3.3 XX_평균_점수 계산 및 추출\n",
    "- 평균_점수는 다음과 같이 정의됨\n",
    "- SUM(XX_점수) / len(집계월)"
   ]
  },
  {
   "cell_type": "code",
   "execution_count": 31,
   "metadata": {
    "scrolled": true
   },
   "outputs": [
    {
     "data": {
      "text/html": [
       "<div>\n",
       "<style scoped>\n",
       "    .dataframe tbody tr th:only-of-type {\n",
       "        vertical-align: middle;\n",
       "    }\n",
       "\n",
       "    .dataframe tbody tr th {\n",
       "        vertical-align: top;\n",
       "    }\n",
       "\n",
       "    .dataframe thead th {\n",
       "        text-align: right;\n",
       "    }\n",
       "</style>\n",
       "<table border=\"1\" class=\"dataframe\">\n",
       "  <thead>\n",
       "    <tr style=\"text-align: right;\">\n",
       "      <th></th>\n",
       "      <th>USERID</th>\n",
       "      <th>점수(한글)</th>\n",
       "      <th>점수(영어)</th>\n",
       "      <th>점수(국어)</th>\n",
       "      <th>점수(수학)</th>\n",
       "      <th>점수(과학)</th>\n",
       "      <th>점수(봄여름가을겨울)</th>\n",
       "      <th>점수(사회)</th>\n",
       "      <th>점수(독서 논술)</th>\n",
       "    </tr>\n",
       "  </thead>\n",
       "  <tbody>\n",
       "    <tr>\n",
       "      <th>0</th>\n",
       "      <td>34DDF9B4-08F2-4414-9023-06B6FAD09A46</td>\n",
       "      <td>NaN</td>\n",
       "      <td>NaN</td>\n",
       "      <td>70.0</td>\n",
       "      <td>58.0</td>\n",
       "      <td>80.0</td>\n",
       "      <td>NaN</td>\n",
       "      <td>60.0</td>\n",
       "      <td>NaN</td>\n",
       "    </tr>\n",
       "    <tr>\n",
       "      <th>1</th>\n",
       "      <td>9070C4D0-2FF6-4BDB-AB5D-90F4B3C65466</td>\n",
       "      <td>NaN</td>\n",
       "      <td>90.0</td>\n",
       "      <td>100.0</td>\n",
       "      <td>100.0</td>\n",
       "      <td>NaN</td>\n",
       "      <td>100.0</td>\n",
       "      <td>NaN</td>\n",
       "      <td>NaN</td>\n",
       "    </tr>\n",
       "    <tr>\n",
       "      <th>2</th>\n",
       "      <td>00EF3F15-366B-4D62-BEFE-544797ABEC1E</td>\n",
       "      <td>NaN</td>\n",
       "      <td>NaN</td>\n",
       "      <td>93.0</td>\n",
       "      <td>83.0</td>\n",
       "      <td>80.0</td>\n",
       "      <td>NaN</td>\n",
       "      <td>87.0</td>\n",
       "      <td>NaN</td>\n",
       "    </tr>\n",
       "    <tr>\n",
       "      <th>3</th>\n",
       "      <td>21125B18-17C6-403D-B665-ED667E727288</td>\n",
       "      <td>NaN</td>\n",
       "      <td>NaN</td>\n",
       "      <td>77.0</td>\n",
       "      <td>74.0</td>\n",
       "      <td>90.0</td>\n",
       "      <td>NaN</td>\n",
       "      <td>50.0</td>\n",
       "      <td>NaN</td>\n",
       "    </tr>\n",
       "    <tr>\n",
       "      <th>4</th>\n",
       "      <td>CFF28889-3328-4F74-B74C-83D78E7A1780</td>\n",
       "      <td>NaN</td>\n",
       "      <td>90.0</td>\n",
       "      <td>86.0</td>\n",
       "      <td>76.0</td>\n",
       "      <td>77.0</td>\n",
       "      <td>NaN</td>\n",
       "      <td>93.0</td>\n",
       "      <td>NaN</td>\n",
       "    </tr>\n",
       "    <tr>\n",
       "      <th>...</th>\n",
       "      <td>...</td>\n",
       "      <td>...</td>\n",
       "      <td>...</td>\n",
       "      <td>...</td>\n",
       "      <td>...</td>\n",
       "      <td>...</td>\n",
       "      <td>...</td>\n",
       "      <td>...</td>\n",
       "      <td>...</td>\n",
       "    </tr>\n",
       "    <tr>\n",
       "      <th>655992</th>\n",
       "      <td>1BBE2327-AE22-4C2B-9D47-C0D8E5BB7BBA</td>\n",
       "      <td>NaN</td>\n",
       "      <td>NaN</td>\n",
       "      <td>NaN</td>\n",
       "      <td>NaN</td>\n",
       "      <td>NaN</td>\n",
       "      <td>NaN</td>\n",
       "      <td>NaN</td>\n",
       "      <td>NaN</td>\n",
       "    </tr>\n",
       "    <tr>\n",
       "      <th>655993</th>\n",
       "      <td>6D2F43AA-A462-4C17-A5F8-BF2296E99C94</td>\n",
       "      <td>NaN</td>\n",
       "      <td>NaN</td>\n",
       "      <td>NaN</td>\n",
       "      <td>NaN</td>\n",
       "      <td>NaN</td>\n",
       "      <td>NaN</td>\n",
       "      <td>NaN</td>\n",
       "      <td>NaN</td>\n",
       "    </tr>\n",
       "    <tr>\n",
       "      <th>655994</th>\n",
       "      <td>E32B52DD-A13C-400A-81D3-3F36D652F7FE</td>\n",
       "      <td>NaN</td>\n",
       "      <td>100.0</td>\n",
       "      <td>NaN</td>\n",
       "      <td>NaN</td>\n",
       "      <td>NaN</td>\n",
       "      <td>NaN</td>\n",
       "      <td>NaN</td>\n",
       "      <td>NaN</td>\n",
       "    </tr>\n",
       "    <tr>\n",
       "      <th>655995</th>\n",
       "      <td>C7F26B40-4BBA-4D76-ACDA-B74E812A4029</td>\n",
       "      <td>NaN</td>\n",
       "      <td>NaN</td>\n",
       "      <td>NaN</td>\n",
       "      <td>NaN</td>\n",
       "      <td>NaN</td>\n",
       "      <td>NaN</td>\n",
       "      <td>NaN</td>\n",
       "      <td>NaN</td>\n",
       "    </tr>\n",
       "    <tr>\n",
       "      <th>655996</th>\n",
       "      <td>B317B989-967D-44AB-9B4C-9684474E8581</td>\n",
       "      <td>NaN</td>\n",
       "      <td>NaN</td>\n",
       "      <td>NaN</td>\n",
       "      <td>NaN</td>\n",
       "      <td>NaN</td>\n",
       "      <td>NaN</td>\n",
       "      <td>NaN</td>\n",
       "      <td>NaN</td>\n",
       "    </tr>\n",
       "  </tbody>\n",
       "</table>\n",
       "<p>655997 rows × 9 columns</p>\n",
       "</div>"
      ],
      "text/plain": [
       "                                      USERID  점수(한글)  점수(영어)  점수(국어)  점수(수학)  \\\n",
       "0       34DDF9B4-08F2-4414-9023-06B6FAD09A46     NaN     NaN    70.0    58.0   \n",
       "1       9070C4D0-2FF6-4BDB-AB5D-90F4B3C65466     NaN    90.0   100.0   100.0   \n",
       "2       00EF3F15-366B-4D62-BEFE-544797ABEC1E     NaN     NaN    93.0    83.0   \n",
       "3       21125B18-17C6-403D-B665-ED667E727288     NaN     NaN    77.0    74.0   \n",
       "4       CFF28889-3328-4F74-B74C-83D78E7A1780     NaN    90.0    86.0    76.0   \n",
       "...                                      ...     ...     ...     ...     ...   \n",
       "655992  1BBE2327-AE22-4C2B-9D47-C0D8E5BB7BBA     NaN     NaN     NaN     NaN   \n",
       "655993  6D2F43AA-A462-4C17-A5F8-BF2296E99C94     NaN     NaN     NaN     NaN   \n",
       "655994  E32B52DD-A13C-400A-81D3-3F36D652F7FE     NaN   100.0     NaN     NaN   \n",
       "655995  C7F26B40-4BBA-4D76-ACDA-B74E812A4029     NaN     NaN     NaN     NaN   \n",
       "655996  B317B989-967D-44AB-9B4C-9684474E8581     NaN     NaN     NaN     NaN   \n",
       "\n",
       "        점수(과학)  점수(봄여름가을겨울)  점수(사회)  점수(독서 논술)  \n",
       "0         80.0          NaN    60.0        NaN  \n",
       "1          NaN        100.0     NaN        NaN  \n",
       "2         80.0          NaN    87.0        NaN  \n",
       "3         90.0          NaN    50.0        NaN  \n",
       "4         77.0          NaN    93.0        NaN  \n",
       "...        ...          ...     ...        ...  \n",
       "655992     NaN          NaN     NaN        NaN  \n",
       "655993     NaN          NaN     NaN        NaN  \n",
       "655994     NaN          NaN     NaN        NaN  \n",
       "655995     NaN          NaN     NaN        NaN  \n",
       "655996     NaN          NaN     NaN        NaN  \n",
       "\n",
       "[655997 rows x 9 columns]"
      ]
     },
     "execution_count": 31,
     "metadata": {},
     "output_type": "execute_result"
    }
   ],
   "source": [
    "# 파생변수(XX_평균_점수) 생성에 필요한 변수만 추출\n",
    "tmp_v_raw_m = v_raw_m[['USERID',\n",
    "                       '점수(한글)', '점수(영어)', '점수(국어)', '점수(수학)', '점수(과학)', '점수(봄여름가을겨울)', '점수(사회)', '점수(독서 논술)']]\n",
    "\n",
    "# memb_info에 존재하는 user로만 slicing\n",
    "tmp_v_raw_m = tmp_v_raw_m[tmp_v_raw_m['USERID'].isin(memb_info['UserId'].unique())].reset_index(drop=True)\n",
    "\n",
    "# sorting by userid\n",
    "tmp_v_raw_m.sort_values(by='USERID').reset_index(drop=True)\n",
    "tmp_v_raw_m"
   ]
  },
  {
   "cell_type": "code",
   "execution_count": 32,
   "metadata": {},
   "outputs": [
    {
     "name": "stdout",
     "output_type": "stream",
     "text": [
      "###### [KeyError] where the occurred: \n",
      "###### [KeyError] where the occurred: \n"
     ]
    }
   ],
   "source": [
    "for subject in sub_list:\n",
    "    try:\n",
    "        memb_info['{}_평균_점수'.format(subject)] = tmp_v_raw_m.groupby(['USERID'])['점수({})'.format(subject)].mean().values\n",
    "    except KeyError:\n",
    "        print(\"###### [KeyError] where the occurred: \".format(subject))"
   ]
  },
  {
   "cell_type": "markdown",
   "metadata": {},
   "source": [
    "#### 4.3.4 나머지 정보들 추출(학년, 출석 관련, ...)"
   ]
  },
  {
   "cell_type": "code",
   "execution_count": 33,
   "metadata": {
    "scrolled": true
   },
   "outputs": [
    {
     "name": "stderr",
     "output_type": "stream",
     "text": [
      "/data/user/venv/model-irt/lib/python3.6/site-packages/ipykernel_launcher.py:10: SettingWithCopyWarning: \n",
      "A value is trying to be set on a copy of a slice from a DataFrame\n",
      "\n",
      "See the caveats in the documentation: http://pandas.pydata.org/pandas-docs/stable/user_guide/indexing.html#returning-a-view-versus-a-copy\n",
      "  # Remove the CWD from sys.path while we load stuff.\n"
     ]
    }
   ],
   "source": [
    "# 말일기준 학년\n",
    "memb_info['학년'] = None\n",
    "\n",
    "tmp_v_raw_m = v_raw_m.groupby(['USERID'])['말일기준 학년'].min().reset_index(level=['USERID'])\n",
    "\n",
    "tmp_v_raw_m = tmp_v_raw_m[tmp_v_raw_m['USERID'].isin(memb_info['UserId'].unique())].reset_index(drop=True)\n",
    "\n",
    "for row in tmp_v_raw_m.values:\n",
    "    idx = memb_info[memb_info['UserId']==row[0]].index[0]\n",
    "    memb_info['학년'][idx] = row[1]"
   ]
  },
  {
   "cell_type": "code",
   "execution_count": 34,
   "metadata": {
    "scrolled": true
   },
   "outputs": [
    {
     "name": "stderr",
     "output_type": "stream",
     "text": [
      "/data/user/venv/model-irt/lib/python3.6/site-packages/ipykernel_launcher.py:10: SettingWithCopyWarning: \n",
      "A value is trying to be set on a copy of a slice from a DataFrame\n",
      "\n",
      "See the caveats in the documentation: http://pandas.pydata.org/pandas-docs/stable/user_guide/indexing.html#returning-a-view-versus-a-copy\n",
      "  # Remove the CWD from sys.path while we load stuff.\n"
     ]
    }
   ],
   "source": [
    "# 말일기준 누적 학습기간\n",
    "memb_info['누적학습기간'] = None\n",
    "\n",
    "tmp_v_raw_m = v_raw_m.groupby(['USERID'])['말일기준 누적 학습기간'].max().reset_index(level=['USERID'])\n",
    "\n",
    "tmp_v_raw_m = tmp_v_raw_m[tmp_v_raw_m['USERID'].isin(memb_info['UserId'].unique())].reset_index(drop=True)\n",
    "\n",
    "for row in tmp_v_raw_m.values:\n",
    "    idx = memb_info[memb_info['UserId']==row[0]].index[0]\n",
    "    memb_info['누적학습기간'][idx] = row[1]"
   ]
  },
  {
   "cell_type": "code",
   "execution_count": 35,
   "metadata": {},
   "outputs": [
    {
     "name": "stderr",
     "output_type": "stream",
     "text": [
      "/data/user/venv/model-irt/lib/python3.6/site-packages/ipykernel_launcher.py:10: SettingWithCopyWarning: \n",
      "A value is trying to be set on a copy of a slice from a DataFrame\n",
      "\n",
      "See the caveats in the documentation: http://pandas.pydata.org/pandas-docs/stable/user_guide/indexing.html#returning-a-view-versus-a-copy\n",
      "  # Remove the CWD from sys.path while we load stuff.\n"
     ]
    }
   ],
   "source": [
    "# 출석횟수\n",
    "memb_info['출석횟수'] = None\n",
    "\n",
    "tmp_v_raw_m = v_raw_m.groupby(['USERID'])['출석횟수'].sum().reset_index(level=['USERID'])\n",
    "\n",
    "tmp_v_raw_m = tmp_v_raw_m[tmp_v_raw_m['USERID'].isin(memb_info['UserId'].unique())].reset_index(drop=True)\n",
    "\n",
    "for row in tmp_v_raw_m.values:\n",
    "    idx = memb_info[memb_info['UserId']==row[0]].index[0]\n",
    "    memb_info['출석횟수'][idx] = row[1]"
   ]
  },
  {
   "cell_type": "code",
   "execution_count": 36,
   "metadata": {},
   "outputs": [
    {
     "name": "stderr",
     "output_type": "stream",
     "text": [
      "/data/user/venv/model-irt/lib/python3.6/site-packages/ipykernel_launcher.py:10: SettingWithCopyWarning: \n",
      "A value is trying to be set on a copy of a slice from a DataFrame\n",
      "\n",
      "See the caveats in the documentation: http://pandas.pydata.org/pandas-docs/stable/user_guide/indexing.html#returning-a-view-versus-a-copy\n",
      "  # Remove the CWD from sys.path while we load stuff.\n"
     ]
    }
   ],
   "source": [
    "# 주중출석횟수\n",
    "memb_info['주중출석횟수'] = None\n",
    "\n",
    "tmp_v_raw_m = v_raw_m.groupby(['USERID'])['출석횟수_토, 일 출석 제외'].sum().reset_index(level=['USERID'])\n",
    "\n",
    "tmp_v_raw_m = tmp_v_raw_m[tmp_v_raw_m['USERID'].isin(memb_info['UserId'].unique())].reset_index(drop=True)\n",
    "\n",
    "for row in tmp_v_raw_m.values:\n",
    "    idx = memb_info[memb_info['UserId']==row[0]].index[0]\n",
    "    memb_info['주중출석횟수'][idx] = row[1]"
   ]
  },
  {
   "cell_type": "code",
   "execution_count": 37,
   "metadata": {},
   "outputs": [
    {
     "name": "stderr",
     "output_type": "stream",
     "text": [
      "/data/user/venv/model-irt/lib/python3.6/site-packages/ipykernel_launcher.py:10: SettingWithCopyWarning: \n",
      "A value is trying to be set on a copy of a slice from a DataFrame\n",
      "\n",
      "See the caveats in the documentation: http://pandas.pydata.org/pandas-docs/stable/user_guide/indexing.html#returning-a-view-versus-a-copy\n",
      "  # Remove the CWD from sys.path while we load stuff.\n"
     ]
    }
   ],
   "source": [
    "# 출석율\n",
    "memb_info['평균출석율'] = None\n",
    "\n",
    "tmp_v_raw_m = v_raw_m.groupby(['USERID'])['출석율'].mean().reset_index(level=['USERID'])\n",
    "\n",
    "tmp_v_raw_m = tmp_v_raw_m[tmp_v_raw_m['USERID'].isin(memb_info['UserId'].unique())].reset_index(drop=True)\n",
    "\n",
    "for row in tmp_v_raw_m.values:\n",
    "    idx = memb_info[memb_info['UserId']==row[0]].index[0]\n",
    "    memb_info['평균출석율'][idx] = row[1]"
   ]
  },
  {
   "cell_type": "code",
   "execution_count": 38,
   "metadata": {},
   "outputs": [
    {
     "name": "stderr",
     "output_type": "stream",
     "text": [
      "/data/user/venv/model-irt/lib/python3.6/site-packages/ipykernel_launcher.py:10: SettingWithCopyWarning: \n",
      "A value is trying to be set on a copy of a slice from a DataFrame\n",
      "\n",
      "See the caveats in the documentation: http://pandas.pydata.org/pandas-docs/stable/user_guide/indexing.html#returning-a-view-versus-a-copy\n",
      "  # Remove the CWD from sys.path while we load stuff.\n"
     ]
    }
   ],
   "source": [
    "# 완료학습개수\n",
    "memb_info['완료학습개수'] = None\n",
    "\n",
    "tmp_v_raw_m = v_raw_m.groupby(['USERID'])['완료학습개수'].sum().reset_index(level=['USERID'])\n",
    "\n",
    "tmp_v_raw_m = tmp_v_raw_m[tmp_v_raw_m['USERID'].isin(memb_info['UserId'].unique())].reset_index(drop=True)\n",
    "\n",
    "for row in tmp_v_raw_m.values:\n",
    "    idx = memb_info[memb_info['UserId']==row[0]].index[0]\n",
    "    memb_info['완료학습개수'][idx] = row[1]"
   ]
  },
  {
   "cell_type": "code",
   "execution_count": 39,
   "metadata": {},
   "outputs": [
    {
     "name": "stderr",
     "output_type": "stream",
     "text": [
      "/data/user/venv/model-irt/lib/python3.6/site-packages/ipykernel_launcher.py:10: SettingWithCopyWarning: \n",
      "A value is trying to be set on a copy of a slice from a DataFrame\n",
      "\n",
      "See the caveats in the documentation: http://pandas.pydata.org/pandas-docs/stable/user_guide/indexing.html#returning-a-view-versus-a-copy\n",
      "  # Remove the CWD from sys.path while we load stuff.\n"
     ]
    }
   ],
   "source": [
    "# 계획완료개수_코스\n",
    "memb_info['계획완료개수_코스'] = None\n",
    "\n",
    "tmp_v_raw_m = v_raw_m.groupby(['USERID'])['계획완료개수_코스'].sum().reset_index(level=['USERID'])\n",
    "\n",
    "tmp_v_raw_m = tmp_v_raw_m[tmp_v_raw_m['USERID'].isin(memb_info['UserId'].unique())].reset_index(drop=True)\n",
    "\n",
    "for row in tmp_v_raw_m.values:\n",
    "    idx = memb_info[memb_info['UserId']==row[0]].index[0]\n",
    "    memb_info['계획완료개수_코스'][idx] = row[1]"
   ]
  },
  {
   "cell_type": "code",
   "execution_count": 40,
   "metadata": {},
   "outputs": [
    {
     "name": "stderr",
     "output_type": "stream",
     "text": [
      "/data/user/venv/model-irt/lib/python3.6/site-packages/ipykernel_launcher.py:10: SettingWithCopyWarning: \n",
      "A value is trying to be set on a copy of a slice from a DataFrame\n",
      "\n",
      "See the caveats in the documentation: http://pandas.pydata.org/pandas-docs/stable/user_guide/indexing.html#returning-a-view-versus-a-copy\n",
      "  # Remove the CWD from sys.path while we load stuff.\n"
     ]
    }
   ],
   "source": [
    "# 계획완료개수_차시추가\n",
    "memb_info['계획완료개수_차시추가'] = None\n",
    "\n",
    "tmp_v_raw_m = v_raw_m.groupby(['USERID'])['계획완료개수_차시추가'].sum().reset_index(level=['USERID'])\n",
    "\n",
    "tmp_v_raw_m = tmp_v_raw_m[tmp_v_raw_m['USERID'].isin(memb_info['UserId'].unique())].reset_index(drop=True)\n",
    "\n",
    "for row in tmp_v_raw_m.values:\n",
    "    idx = memb_info[memb_info['UserId']==row[0]].index[0]\n",
    "    memb_info['계획완료개수_차시추가'][idx] = row[1]"
   ]
  },
  {
   "cell_type": "code",
   "execution_count": 41,
   "metadata": {},
   "outputs": [
    {
     "name": "stderr",
     "output_type": "stream",
     "text": [
      "/data/user/venv/model-irt/lib/python3.6/site-packages/ipykernel_launcher.py:10: SettingWithCopyWarning: \n",
      "A value is trying to be set on a copy of a slice from a DataFrame\n",
      "\n",
      "See the caveats in the documentation: http://pandas.pydata.org/pandas-docs/stable/user_guide/indexing.html#returning-a-view-versus-a-copy\n",
      "  # Remove the CWD from sys.path while we load stuff.\n"
     ]
    }
   ],
   "source": [
    "# 비계획완료\n",
    "memb_info['비계획완료'] = None\n",
    "\n",
    "tmp_v_raw_m = v_raw_m.groupby(['USERID'])['비계획완료'].sum().reset_index(level=['USERID'])\n",
    "\n",
    "tmp_v_raw_m = tmp_v_raw_m[tmp_v_raw_m['USERID'].isin(memb_info['UserId'].unique())].reset_index(drop=True)\n",
    "\n",
    "for row in tmp_v_raw_m.values:\n",
    "    idx = memb_info[memb_info['UserId']==row[0]].index[0]\n",
    "    memb_info['비계획완료'][idx] = row[1]"
   ]
  },
  {
   "cell_type": "code",
   "execution_count": 42,
   "metadata": {},
   "outputs": [
    {
     "name": "stderr",
     "output_type": "stream",
     "text": [
      "/data/user/venv/model-irt/lib/python3.6/site-packages/ipykernel_launcher.py:10: SettingWithCopyWarning: \n",
      "A value is trying to be set on a copy of a slice from a DataFrame\n",
      "\n",
      "See the caveats in the documentation: http://pandas.pydata.org/pandas-docs/stable/user_guide/indexing.html#returning-a-view-versus-a-copy\n",
      "  # Remove the CWD from sys.path while we load stuff.\n"
     ]
    }
   ],
   "source": [
    "# 순수완료\n",
    "memb_info['순수완료'] = None\n",
    "\n",
    "tmp_v_raw_m = v_raw_m.groupby(['USERID'])['순수완료'].sum().reset_index(level=['USERID'])\n",
    "\n",
    "tmp_v_raw_m = tmp_v_raw_m[tmp_v_raw_m['USERID'].isin(memb_info['UserId'].unique())].reset_index(drop=True)\n",
    "\n",
    "for row in tmp_v_raw_m.values:\n",
    "    idx = memb_info[memb_info['UserId']==row[0]].index[0]\n",
    "    memb_info['순수완료'][idx] = row[1]"
   ]
  },
  {
   "cell_type": "markdown",
   "metadata": {},
   "source": [
    "# 5. export to data"
   ]
  },
  {
   "cell_type": "code",
   "execution_count": 43,
   "metadata": {
    "scrolled": true
   },
   "outputs": [],
   "source": [
    "# 1~6학년으로만 대상 한정\n",
    "memb_info = memb_info[memb_info['학년'].isin([1, 2, 3, 4, 5, 6])].reset_index(drop=True)"
   ]
  },
  {
   "cell_type": "code",
   "execution_count": 44,
   "metadata": {},
   "outputs": [
    {
     "name": "stdout",
     "output_type": "stream",
     "text": [
      "<class 'pandas.core.frame.DataFrame'>\n",
      "RangeIndex: 66544 entries, 0 to 66543\n",
      "Data columns (total 64 columns):\n",
      "UserId                           66544 non-null object\n",
      "Gender                           66544 non-null object\n",
      "학년                               66544 non-null object\n",
      "capital_area                     66519 non-null object\n",
      "charge_memb                      66544 non-null int64\n",
      "누적학습기간                           66499 non-null object\n",
      "출석횟수                             66544 non-null object\n",
      "주중출석횟수                           66544 non-null object\n",
      "평균출석율                            66543 non-null object\n",
      "완료학습개수                           66544 non-null object\n",
      "계획완료개수_코스                        66544 non-null object\n",
      "계획완료개수_차시추가                      66544 non-null object\n",
      "비계획완료                            66544 non-null object\n",
      "순수완료                             66544 non-null object\n",
      "메뉴명:매일학교공부_수                     66387 non-null object\n",
      "메뉴명:중학특강_수                       8886 non-null object\n",
      "메뉴명:첨삭과외_수                       63413 non-null object\n",
      "메뉴명:수준별수학_수                      64525 non-null object\n",
      "메뉴명:실력평가_수                       52136 non-null object\n",
      "메뉴명:수준별영어_수                      54684 non-null object\n",
      "메뉴명:특별학습_수                       62575 non-null object\n",
      "메뉴명:매일 보는 동화_수                   19386 non-null object\n",
      "메뉴명:시험대비특강_수                     62681 non-null object\n",
      "메뉴명:키즈 영어_수                      4134 non-null object\n",
      "메뉴명:_수                           27335 non-null object\n",
      "메뉴명:키즈 한글_수                      12217 non-null object\n",
      "메뉴명:키즈 수학_수                      12187 non-null object\n",
      "메뉴명:예비초등_수                       743 non-null object\n",
      "메뉴명:None_수                       18 non-null object\n",
      "강의타입:(영상+문제)_수                   66471 non-null object\n",
      "강의타입:첨삭_수                        63413 non-null object\n",
      "강의타입:문제_수                        63013 non-null object\n",
      "강의타입:영상_수                        65194 non-null object\n",
      "강의타입:T_ABILITY_EVAL_SS_OL없음_수    1948 non-null object\n",
      "강의타입:CORE없음_수                    314 non-null object\n",
      "강의타입:WHY없음_수                     330 non-null object\n",
      "강의타입:T_PENG없음_수                  34 non-null object\n",
      "타입:코스_수                          64036 non-null object\n",
      "타입:순수학습_수                        66442 non-null object\n",
      "타입:차시_수                          59891 non-null object\n",
      "타입:None_수                        100 non-null object\n",
      "한글_정답율                           1374 non-null float64\n",
      "국어_정답율                           65503 non-null float64\n",
      "영어_정답율                           55022 non-null float64\n",
      "수학_정답율                           65732 non-null float64\n",
      "사회_정답율                           50103 non-null float64\n",
      "과학_정답율                           49325 non-null float64\n",
      "봄여름가을겨울_정답율                      27691 non-null float64\n",
      "독서 논술_정답율                        11631 non-null float64\n",
      "한글_오답_수행율                        1015 non-null float64\n",
      "국어_오답_수행율                        64897 non-null float64\n",
      "영어_오답_수행율                        43369 non-null float64\n",
      "수학_오답_수행율                        65340 non-null float64\n",
      "사회_오답_수행율                        49789 non-null float64\n",
      "과학_오답_수행율                        48930 non-null float64\n",
      "봄여름가을겨울_오답_수행율                   25603 non-null float64\n",
      "한글_평균_점수                         1374 non-null float64\n",
      "국어_평균_점수                         65503 non-null float64\n",
      "영어_평균_점수                         55022 non-null float64\n",
      "수학_평균_점수                         65732 non-null float64\n",
      "사회_평균_점수                         50103 non-null float64\n",
      "과학_평균_점수                         49325 non-null float64\n",
      "봄여름가을겨울_평균_점수                    27691 non-null float64\n",
      "독서 논술_평균_점수                      11631 non-null float64\n",
      "dtypes: float64(23), int64(1), object(40)\n",
      "memory usage: 32.5+ MB\n"
     ]
    }
   ],
   "source": [
    "memb_info[['UserId', 'Gender', '학년', 'capital_area', 'charge_memb',\n",
    "           '누적학습기간', '출석횟수', '주중출석횟수', '평균출석율',\n",
    "           '완료학습개수', '계획완료개수_코스', '계획완료개수_차시추가', '비계획완료', '순수완료',\n",
    "           '메뉴명:매일학교공부_수', '메뉴명:중학특강_수', '메뉴명:첨삭과외_수', '메뉴명:수준별수학_수',\n",
    "           '메뉴명:실력평가_수', '메뉴명:수준별영어_수', '메뉴명:특별학습_수', '메뉴명:매일 보는 동화_수',\n",
    "           '메뉴명:시험대비특강_수', '메뉴명:키즈 영어_수', '메뉴명:_수', '메뉴명:키즈 한글_수',\n",
    "           '메뉴명:키즈 수학_수', '메뉴명:예비초등_수', '메뉴명:None_수',\n",
    "           '강의타입:(영상+문제)_수', '강의타입:첨삭_수', '강의타입:문제_수', '강의타입:영상_수',\n",
    "           '강의타입:T_ABILITY_EVAL_SS_OL없음_수', '강의타입:CORE없음_수', '강의타입:WHY없음_수', '강의타입:T_PENG없음_수',\n",
    "           '타입:코스_수', '타입:순수학습_수', '타입:차시_수', '타입:None_수',\n",
    "           '한글_정답율', '국어_정답율', '영어_정답율', '수학_정답율',  '사회_정답율', '과학_정답율', '봄여름가을겨울_정답율', '독서 논술_정답율',\n",
    "           '한글_오답_수행율', '국어_오답_수행율', '영어_오답_수행율', '수학_오답_수행율', '사회_오답_수행율', '과학_오답_수행율', '봄여름가을겨울_오답_수행율',\n",
    "           '한글_평균_점수', '국어_평균_점수', '영어_평균_점수', '수학_평균_점수', '사회_평균_점수', '과학_평균_점수', '봄여름가을겨울_평균_점수', '독서 논술_평균_점수']].info()"
   ]
  },
  {
   "cell_type": "code",
   "execution_count": 46,
   "metadata": {},
   "outputs": [],
   "source": [
    "memb_info[['UserId', 'Gender', '학년', 'capital_area', 'charge_memb',\n",
    "           '누적학습기간', '출석횟수', '주중출석횟수', '평균출석율',\n",
    "           '완료학습개수', '계획완료개수_코스', '계획완료개수_차시추가', '비계획완료', '순수완료',\n",
    "           '메뉴명:매일학교공부_수', '메뉴명:중학특강_수', '메뉴명:첨삭과외_수', '메뉴명:수준별수학_수',\n",
    "           '메뉴명:실력평가_수', '메뉴명:수준별영어_수', '메뉴명:특별학습_수', '메뉴명:매일 보는 동화_수',\n",
    "           '메뉴명:시험대비특강_수', '메뉴명:키즈 영어_수', '메뉴명:_수', '메뉴명:키즈 한글_수',\n",
    "           '메뉴명:키즈 수학_수', '메뉴명:예비초등_수', '메뉴명:None_수',\n",
    "           '강의타입:(영상+문제)_수', '강의타입:첨삭_수', '강의타입:문제_수', '강의타입:영상_수',\n",
    "           '강의타입:T_ABILITY_EVAL_SS_OL없음_수', '강의타입:CORE없음_수', '강의타입:WHY없음_수', '강의타입:T_PENG없음_수',\n",
    "           '타입:코스_수', '타입:순수학습_수', '타입:차시_수', '타입:None_수',\n",
    "           '한글_정답율', '국어_정답율', '영어_정답율', '수학_정답율',  '사회_정답율', '과학_정답율', '봄여름가을겨울_정답율', '독서 논술_정답율',\n",
    "           '한글_오답_수행율', '국어_오답_수행율', '영어_오답_수행율', '수학_오답_수행율', '사회_오답_수행율', '과학_오답_수행율', '봄여름가을겨울_오답_수행율',\n",
    "           '한글_평균_점수', '국어_평균_점수', '영어_평균_점수', '수학_평균_점수', '사회_평균_점수', '과학_평균_점수', '봄여름가을겨울_평균_점수', '독서 논술_평균_점수']].to_csv('/data/user/workspace/model-irt/memb_info_v1.0.csv',\n",
    "                                                                                                                           header=True,\n",
    "                                                                                                                           index=False)"
   ]
  }
 ],
 "metadata": {
  "kernelspec": {
   "display_name": "model-irt",
   "language": "python",
   "name": "model-irt"
  },
  "language_info": {
   "codemirror_mode": {
    "name": "ipython",
    "version": 3
   },
   "file_extension": ".py",
   "mimetype": "text/x-python",
   "name": "python",
   "nbconvert_exporter": "python",
   "pygments_lexer": "ipython3",
   "version": "3.6.9"
  }
 },
 "nbformat": 4,
 "nbformat_minor": 4
}
